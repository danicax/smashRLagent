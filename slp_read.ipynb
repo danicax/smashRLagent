{
 "cells": [
  {
   "cell_type": "code",
   "execution_count": 1,
   "id": "9cf871c1",
   "metadata": {},
   "outputs": [],
   "source": [
    "import sys\n",
    "import melee\n",
    "import random"
   ]
  }
 ],
 "metadata": {
  "kernelspec": {
   "display_name": "base",
   "language": "python",
   "name": "python3"
  },
  "language_info": {
   "codemirror_mode": {
    "name": "ipython",
    "version": 3
   },
   "file_extension": ".py",
   "mimetype": "text/x-python",
   "name": "python",
   "nbconvert_exporter": "python",
   "pygments_lexer": "ipython3",
   "version": "3.10.6"
  }
 },
 "nbformat": 4,
 "nbformat_minor": 5
}
