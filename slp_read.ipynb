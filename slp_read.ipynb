{
 "cells": [
  {
   "cell_type": "code",
   "execution_count": 2,
   "id": "9cf871c1",
   "metadata": {},
   "outputs": [],
   "source": [
    "import sys\n",
    "import melee\n",
    "import random"
   ]
  },
  {
   "cell_type": "code",
   "execution_count": 7,
   "id": "ad649ed5",
   "metadata": {},
   "outputs": [],
   "source": [
    "# REPLACE WITH YOUR PATH NAME\n",
    "pathToSlp = \"replays\\Game_20250422T225246.slp\""
   ]
  },
  {
   "cell_type": "code",
   "execution_count": null,
   "id": "a8500eea",
   "metadata": {},
   "outputs": [
    {
     "name": "stdout",
     "output_type": "stream",
     "text": [
      "player 1 stock 4\n",
      "player 1 percent 0\n",
      "player 1 position x -38.8\n",
      "player 1 position y 35.2\n",
      "player 1 position y 35.2\n",
      "player 1 character Character.FOX\n",
      "player 1 action Action.ENTRY\n",
      "player 1 action frame -1\n",
      "player 1 facing direction True\n",
      "player 1 shield strength 60.0\n",
      "player 1 jumps left 1\n",
      "player 1 is on ground False\n",
      "player 1 is invulnerable False\n",
      "player 1 velocity air x self 0.0\n",
      "player 1 velocity ground x self 0.0\n",
      "player 1 velocity x attack 0.0\n",
      "player 1 velocity y attack 0.0\n",
      "player 1 velocity y self 0.0\n",
      "stage Stage.BATTLEFIELD\n"
     ]
    }
   ],
   "source": [
    "console = melee.Console(system=\"file\", path=pathToSlp)\n",
    "console.connect()\n",
    "\n",
    "while True:\n",
    "    gamestate = console.step()\n",
    "    # step() returns None when the file ends\n",
    "    if gamestate is None:\n",
    "        break\n",
    "    for i, player in gamestate.players.items():\n",
    "        print(\"player\", i, \"stock\", player.stock)\n",
    "        print(\"player\", i,\"percent\", player.percent)\n",
    "        print(\"player\", i,\"position x\", player.position.x)\n",
    "        print(\"player\", i,\"position y\", player.position.y)\n",
    "        print(\"player\", i,\"position y\", player.position.y)\n",
    "        print(\"player\", i,\"character\", player.character)\n",
    "        print(\"player\", i, \"action\", player.action)\n",
    "        print(\"player\", i, \"action frame\", player.action_frame)\n",
    "        print(\"player\", i, \"facing direction\", player.facing)\n",
    "        print(\"player\", i, \"shield strength\", player.shield_strength)\n",
    "        #print(\"player\", i, \"inputs\", player.inputs)\n",
    "        print(\"player\", i, \"jumps left\", player.jumps_left)\n",
    "        print(\"player\", i, \"is on ground\", player.on_ground)\n",
    "        print(\"player\", i, \"is invulnerable\", player.invulnerable)\n",
    "        print(\"player\", i, \"velocity air x self\", player.speed_air_x_self)\n",
    "        print(\"player\", i, \"velocity ground x self\", player.speed_ground_x_self)\n",
    "        print(\"player\", i, \"velocity x attack\", player.speed_x_attack)\n",
    "        print(\"player\", i, \"velocity y attack\", player.speed_y_attack)\n",
    "        print(\"player\", i, \"velocity y self\", player.speed_y_self)\n",
    "        break\n",
    "    print(\"stage\", gamestate.stage)\n",
    "    for projectile in gamestate.projectiles:\n",
    "        print(\"projectile type\", projectile.type)\n",
    "        print(\"projectile frame\", projectile.frame)\n",
    "        print(\"projectile owner\", projectile.owner)\n",
    "        print(\"projectile position x\", projectile.position.x)\n",
    "        print(\"projectile position y\", projectile.position.y)\n",
    "        print(\"projectile velocity x\", projectile.speed.x)\n",
    "        print(\"projectile velocity y\", projectile.speed.y)\n",
    "        break\n",
    "    break"
   ]
  },
  {
   "cell_type": "code",
   "execution_count": null,
   "id": "b46e12b5",
   "metadata": {},
   "outputs": [],
   "source": []
  }
 ],
 "metadata": {
  "kernelspec": {
   "display_name": "base",
   "language": "python",
   "name": "python3"
  },
  "language_info": {
   "codemirror_mode": {
    "name": "ipython",
    "version": 3
   },
   "file_extension": ".py",
   "mimetype": "text/x-python",
   "name": "python",
   "nbconvert_exporter": "python",
   "pygments_lexer": "ipython3",
   "version": "3.10.6"
  }
 },
 "nbformat": 4,
 "nbformat_minor": 5
}
