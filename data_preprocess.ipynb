{
 "cells": [
  {
   "cell_type": "code",
   "execution_count": 1,
   "metadata": {},
   "outputs": [],
   "source": [
    "#!pip install tqdm"
   ]
  },
  {
   "cell_type": "code",
   "execution_count": 2,
   "metadata": {},
   "outputs": [],
   "source": [
    "from tqdm import tqdm\n",
    "import melee\n",
    "import os\n",
    "import glob\n",
    "import torch\n",
    "import pickle\n",
    "import json\n",
    "import multiprocessing as mp\n",
    "from util import make_obs, get_controller_state"
   ]
  },
  {
   "cell_type": "code",
   "execution_count": 4,
   "metadata": {},
   "outputs": [],
   "source": [
    "def process_slp(slp, output_path):\n",
    "    states = []\n",
    "    actions = []\n",
    "    game_id = os.path.basename(slp).split(\".\")[0]\n",
    "    console = melee.Console(system=\"file\", allow_old_version=False, path=slp)\n",
    "    # console = melee.Console(system=\"file\", path=slp)\n",
    "    console.connect()\n",
    "    while True:\n",
    "        gs = console.step()\n",
    "        if gs is None:\n",
    "            break\n",
    "\n",
    "        controller_state = gs.players[1].controller_state  # or whichever field holds the input\n",
    "        act = get_controller_state(controller_state)\n",
    "\n",
    "        obs = make_obs(gs, max_projectiles=5)\n",
    "        states.append(obs)\n",
    "        actions.append(act)\n",
    "\n",
    "    # store the states and actions in a pkl file\n",
    "    os.makedirs(output_path, exist_ok=True)\n",
    "    with open(os.path.join(output_path, f\"{game_id}.pkl\"), \"wb\") as f:\n",
    "        pickle.dump({\"states\": states, \"actions\": actions}, f)\n",
    "\n",
    "    return len(actions)"
   ]
  },
  {
   "cell_type": "code",
   "execution_count": 5,
   "metadata": {},
   "outputs": [
    {
     "name": "stdout",
     "output_type": "stream",
     "text": [
      "450\n"
     ]
    }
   ],
   "source": [
    "# REPLACE WITH YOUR PATH NAME\n",
    "# source_path = \"replays\"\n",
    "source_path = \"data\"\n",
    "# find all slp files in the data folder recursively\n",
    "slp_paths = glob.glob(os.path.join(source_path, \"**/*.slp\"), recursive=True)\n",
    "print(len(slp_paths))\n",
    "\n",
    "# output_path = \"data/processed\"\n",
    "train_output_path = \"data/train_mini_50\"\n",
    "val_output_path = \"data/val_mini_10\""
   ]
  },
  {
   "cell_type": "code",
   "execution_count": 6,
   "metadata": {},
   "outputs": [
    {
     "name": "stdout",
     "output_type": "stream",
     "text": [
      "working with 12 cores\n"
     ]
    },
    {
     "name": "stderr",
     "output_type": "stream",
     "text": [
      "/home/summertony717/School/cs224r/project/libmelee/melee/console.py:976: RuntimeWarning: overflow encountered in scalar add\n",
      "  projectile.owner = np.ndarray((1,), \">B\", event_bytes, 0x2A)[0] + 1\n",
      "/home/summertony717/School/cs224r/project/libmelee/melee/console.py:976: RuntimeWarning: overflow encountered in scalar add\n",
      "  projectile.owner = np.ndarray((1,), \">B\", event_bytes, 0x2A)[0] + 1\n",
      "/home/summertony717/School/cs224r/project/libmelee/melee/console.py:976: RuntimeWarning: overflow encountered in scalar add\n",
      "  projectile.owner = np.ndarray((1,), \">B\", event_bytes, 0x2A)[0] + 1\n",
      "/home/summertony717/School/cs224r/project/libmelee/melee/console.py:976: RuntimeWarning: overflow encountered in scalar add\n",
      "  projectile.owner = np.ndarray((1,), \">B\", event_bytes, 0x2A)[0] + 1\n",
      "/home/summertony717/School/cs224r/project/libmelee/melee/console.py:976: RuntimeWarning: overflow encountered in scalar add\n",
      "  projectile.owner = np.ndarray((1,), \">B\", event_bytes, 0x2A)[0] + 1\n",
      "/home/summertony717/School/cs224r/project/libmelee/melee/console.py:976: RuntimeWarning: overflow encountered in scalar add\n",
      "  projectile.owner = np.ndarray((1,), \">B\", event_bytes, 0x2A)[0] + 1\n"
     ]
    }
   ],
   "source": [
    "def make_train(x): return process_slp(x, train_output_path)\n",
    "def make_val(x): return process_slp(x, val_output_path)\n",
    "\n",
    "# use multiprocessing to speed up the process\n",
    "print(f'working with {mp.cpu_count()} cores')\n",
    "with mp.Pool(processes=mp.cpu_count()) as pool:\n",
    "    train = pool.map(make_train, slp_paths[:50])\n",
    "    val = pool.map(make_val, slp_paths[50:60])\n",
    "\n",
    "metadata = {}\n",
    "for k, v in zip(slp_paths, train):\n",
    "    metadata[os.path.basename(k)] = v\n",
    "\n",
    "with open(os.path.join(train_output_path, \"metadata.json\"), \"w\") as f:\n",
    "    json.dump(metadata, f)\n",
    "\n",
    "metadata = {}\n",
    "for k, v in zip(slp_paths[50:60], val):\n",
    "    metadata[os.path.basename(k)] = v\n",
    "\n",
    "with open(os.path.join(val_output_path, \"metadata.json\"), \"w\") as f:\n",
    "    json.dump(metadata, f)\n"
   ]
  }
 ],
 "metadata": {
  "kernelspec": {
   "display_name": "melee",
   "language": "python",
   "name": "python3"
  },
  "language_info": {
   "codemirror_mode": {
    "name": "ipython",
    "version": 3
   },
   "file_extension": ".py",
   "mimetype": "text/x-python",
   "name": "python",
   "nbconvert_exporter": "python",
   "pygments_lexer": "ipython3",
   "version": "3.10.17"
  }
 },
 "nbformat": 4,
 "nbformat_minor": 2
}
