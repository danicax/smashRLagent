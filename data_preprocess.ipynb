{
 "cells": [
  {
   "cell_type": "code",
   "execution_count": null,
   "metadata": {},
   "outputs": [],
   "source": [
    "#!pip install tqdm"
   ]
  },
  {
   "cell_type": "code",
   "execution_count": 6,
   "metadata": {},
   "outputs": [],
   "source": [
    "from tqdm import tqdm\n",
    "import melee\n",
    "import os\n",
    "import glob\n",
    "import torch\n",
    "import pickle\n",
    "import json\n",
    "import multiprocessing as mp"
   ]
  },
  {
   "cell_type": "code",
   "execution_count": 7,
   "metadata": {},
   "outputs": [],
   "source": [
    "def make_obs(gamestate, max_projectiles=5):\n",
    "    # 1) Player features extractor (17 floats each)\n",
    "    def player_feats(p):\n",
    "        return [\n",
    "            float(p.stock),\n",
    "            float(p.percent),\n",
    "            p.position.x,\n",
    "            p.position.y,\n",
    "            float(p.character.value),\n",
    "            float(p.action.value),\n",
    "            float(p.action_frame),\n",
    "            float(p.facing),\n",
    "            float(p.shield_strength),\n",
    "            float(p.jumps_left),\n",
    "            float(p.on_ground),\n",
    "            float(p.invulnerable),\n",
    "            p.speed_air_x_self,\n",
    "            p.speed_ground_x_self,\n",
    "            p.speed_x_attack,\n",
    "            p.speed_y_attack,\n",
    "            p.speed_y_self,\n",
    "        ]\n",
    "\n",
    "    # get player slots 1 & 2\n",
    "    ps = gamestate.players\n",
    "    f1 = player_feats(ps.get(1)) if 1 in ps else [0.0]*17\n",
    "    #f2 = player_feats(ps.get(2)) if 2 in ps else [0.0]*17 #we dont want player2 data right?\n",
    "    f2 = [float(gamestate.players.get(2).character.value)]\n",
    "\n",
    "    # 2) Stage as one float\n",
    "    stage_feat = [float(gamestate.stage.value)]\n",
    "\n",
    "    # 3) Projectile features: each is 7 floats\n",
    "    proj_feats = []\n",
    "    for proj in gamestate.projectiles[:max_projectiles]:\n",
    "        proj_feats.extend([\n",
    "            float(proj.type.value),\n",
    "            float(proj.frame),\n",
    "            float(proj.owner),\n",
    "            proj.position.x,\n",
    "            proj.position.y,\n",
    "            proj.speed.x,\n",
    "            proj.speed.y,\n",
    "        ])\n",
    "    # pad out to max_projectiles * 7\n",
    "    needed = max_projectiles*7 - len(proj_feats)\n",
    "    if needed > 0:\n",
    "        proj_feats.extend([0.0]*needed)\n",
    "\n",
    "    all_feats = f1 + stage_feat + proj_feats + f2\n",
    "    return torch.tensor(all_feats, dtype=torch.float32)"
   ]
  },
  {
   "cell_type": "code",
   "execution_count": 8,
   "metadata": {},
   "outputs": [
    {
     "name": "stdout",
     "output_type": "stream",
     "text": [
      "450\n"
     ]
    }
   ],
   "source": [
    "# REPLACE WITH YOUR PATH NAME\n",
    "# source_path = \"replays\"\n",
    "source_path = \"data\"\n",
    "# find all slp files in the data folder recursively\n",
    "slp_paths = glob.glob(os.path.join(source_path, \"**/*.slp\"), recursive=True)\n",
    "print(len(slp_paths))\n",
    "\n",
    "output_path = \"data/processed\""
   ]
  },
  {
   "cell_type": "code",
   "execution_count": 9,
   "metadata": {},
   "outputs": [],
   "source": [
    "def process_slp(slp):\n",
    "    states = []\n",
    "    actions = []\n",
    "    game_id = os.path.basename(slp).split(\".\")[0]\n",
    "    console = melee.Console(system=\"file\", allow_old_version=False, path=slp)\n",
    "    # console = melee.Console(system=\"file\", path=slp)\n",
    "    console.connect()\n",
    "    while True:\n",
    "        gs = console.step()\n",
    "        if gs is None:\n",
    "            break\n",
    "\n",
    "        controller_state = gs.players[1].controller_state  # or whichever field holds the input\n",
    "        act = torch.tensor([\n",
    "            float(controller_state.button[melee.enums.Button.BUTTON_A]),\n",
    "            float(controller_state.button[melee.enums.Button.BUTTON_B]),\n",
    "            float(controller_state.button[melee.enums.Button.BUTTON_D_DOWN]),\n",
    "            float(controller_state.button[melee.enums.Button.BUTTON_D_LEFT]),\n",
    "            float(controller_state.button[melee.enums.Button.BUTTON_D_RIGHT]),\n",
    "            float(controller_state.button[melee.enums.Button.BUTTON_D_UP]),\n",
    "            float(controller_state.button[melee.enums.Button.BUTTON_L]),\n",
    "            float(controller_state.button[melee.enums.Button.BUTTON_R]),\n",
    "            float(controller_state.button[melee.enums.Button.BUTTON_X]),\n",
    "            float(controller_state.button[melee.enums.Button.BUTTON_Y]),\n",
    "            float(controller_state.button[melee.enums.Button.BUTTON_Z]),\n",
    "            # float(controller_state.button[melee.enums.Button.BUTTON_START]), # do we need this? @tony\n",
    "            controller_state.main_stick[0], #x/y components\n",
    "            controller_state.main_stick[1],\n",
    "            controller_state.c_stick[0],\n",
    "            controller_state.c_stick[1],\n",
    "            controller_state.l_shoulder,\n",
    "            controller_state.r_shoulder\n",
    "        ], dtype=torch.float32)\n",
    "\n",
    "        obs = make_obs(gs, max_projectiles=5)\n",
    "        states.append(obs)\n",
    "        actions.append(act)\n",
    "\n",
    "    # store the states and actions in a pkl file\n",
    "    os.makedirs(output_path, exist_ok=True)\n",
    "    with open(os.path.join(output_path, f\"{game_id}.pkl\"), \"wb\") as f:\n",
    "        pickle.dump({\"states\": states, \"actions\": actions}, f)\n",
    "\n",
    "    return len(actions)"
   ]
  },
  {
   "cell_type": "code",
   "execution_count": 10,
   "metadata": {},
   "outputs": [
    {
     "name": "stdout",
     "output_type": "stream",
     "text": [
      "working with 12 cores\n"
     ]
    },
    {
     "name": "stderr",
     "output_type": "stream",
     "text": [
      "/home/summertony717/School/cs224r/project/libmelee/melee/console.py:976: RuntimeWarning: overflow encountered in scalar add\n",
      "  projectile.owner = np.ndarray((1,), \">B\", event_bytes, 0x2A)[0] + 1\n",
      "/home/summertony717/School/cs224r/project/libmelee/melee/console.py:976: RuntimeWarning: overflow encountered in scalar add\n",
      "  projectile.owner = np.ndarray((1,), \">B\", event_bytes, 0x2A)[0] + 1\n",
      "/home/summertony717/School/cs224r/project/libmelee/melee/console.py:976: RuntimeWarning: overflow encountered in scalar add\n",
      "  projectile.owner = np.ndarray((1,), \">B\", event_bytes, 0x2A)[0] + 1\n",
      "/home/summertony717/School/cs224r/project/libmelee/melee/console.py:976: RuntimeWarning: overflow encountered in scalar add\n",
      "  projectile.owner = np.ndarray((1,), \">B\", event_bytes, 0x2A)[0] + 1\n",
      "/home/summertony717/School/cs224r/project/libmelee/melee/console.py:976: RuntimeWarning: overflow encountered in scalar add\n",
      "  projectile.owner = np.ndarray((1,), \">B\", event_bytes, 0x2A)[0] + 1\n",
      "/home/summertony717/School/cs224r/project/libmelee/melee/console.py:976: RuntimeWarning: overflow encountered in scalar add\n",
      "  projectile.owner = np.ndarray((1,), \">B\", event_bytes, 0x2A)[0] + 1\n",
      "/home/summertony717/School/cs224r/project/libmelee/melee/console.py:976: RuntimeWarning: overflow encountered in scalar add\n",
      "  projectile.owner = np.ndarray((1,), \">B\", event_bytes, 0x2A)[0] + 1\n",
      "/home/summertony717/School/cs224r/project/libmelee/melee/console.py:976: RuntimeWarning: overflow encountered in scalar add\n",
      "  projectile.owner = np.ndarray((1,), \">B\", event_bytes, 0x2A)[0] + 1\n",
      "/home/summertony717/School/cs224r/project/libmelee/melee/console.py:976: RuntimeWarning: overflow encountered in scalar add\n",
      "  projectile.owner = np.ndarray((1,), \">B\", event_bytes, 0x2A)[0] + 1\n",
      "/home/summertony717/School/cs224r/project/libmelee/melee/console.py:976: RuntimeWarning: overflow encountered in scalar add\n",
      "  projectile.owner = np.ndarray((1,), \">B\", event_bytes, 0x2A)[0] + 1\n",
      "/home/summertony717/School/cs224r/project/libmelee/melee/console.py:976: RuntimeWarning: overflow encountered in scalar add\n",
      "  projectile.owner = np.ndarray((1,), \">B\", event_bytes, 0x2A)[0] + 1\n"
     ]
    },
    {
     "ename": "OSError",
     "evalue": "[Errno 28] No space left on device",
     "output_type": "error",
     "traceback": [
      "\u001b[0;31m---------------------------------------------------------------------------\u001b[0m",
      "\u001b[0;31mRemoteTraceback\u001b[0m                           Traceback (most recent call last)",
      "\u001b[0;31mRemoteTraceback\u001b[0m: \n\"\"\"\nTraceback (most recent call last):\n  File \"/home/summertony717/miniforge3/envs/melee/lib/python3.10/multiprocessing/pool.py\", line 125, in worker\n    result = (True, func(*args, **kwds))\n  File \"/home/summertony717/miniforge3/envs/melee/lib/python3.10/multiprocessing/pool.py\", line 48, in mapstar\n    return list(map(*args))\n  File \"/tmp/ipykernel_39916/3696583944.py\", line 42, in process_slp\n    pickle.dump({\"states\": states, \"actions\": actions}, f)\nOSError: [Errno 28] No space left on device\n\"\"\"",
      "\nThe above exception was the direct cause of the following exception:\n",
      "\u001b[0;31mOSError\u001b[0m                                   Traceback (most recent call last)",
      "Cell \u001b[0;32mIn[10], line 4\u001b[0m\n\u001b[1;32m      2\u001b[0m \u001b[38;5;28mprint\u001b[39m(\u001b[38;5;124mf\u001b[39m\u001b[38;5;124m'\u001b[39m\u001b[38;5;124mworking with \u001b[39m\u001b[38;5;132;01m{\u001b[39;00mmp\u001b[38;5;241m.\u001b[39mcpu_count()\u001b[38;5;132;01m}\u001b[39;00m\u001b[38;5;124m cores\u001b[39m\u001b[38;5;124m'\u001b[39m)\n\u001b[1;32m      3\u001b[0m \u001b[38;5;28;01mwith\u001b[39;00m mp\u001b[38;5;241m.\u001b[39mPool(processes\u001b[38;5;241m=\u001b[39mmp\u001b[38;5;241m.\u001b[39mcpu_count()) \u001b[38;5;28;01mas\u001b[39;00m pool:\n\u001b[0;32m----> 4\u001b[0m     results \u001b[38;5;241m=\u001b[39m \u001b[43mpool\u001b[49m\u001b[38;5;241;43m.\u001b[39;49m\u001b[43mmap\u001b[49m\u001b[43m(\u001b[49m\u001b[43mprocess_slp\u001b[49m\u001b[43m,\u001b[49m\u001b[43m \u001b[49m\u001b[43mslp_paths\u001b[49m\u001b[43m)\u001b[49m\n\u001b[1;32m      6\u001b[0m metadata \u001b[38;5;241m=\u001b[39m {}\n\u001b[1;32m      7\u001b[0m \u001b[38;5;28;01mfor\u001b[39;00m k, v \u001b[38;5;129;01min\u001b[39;00m \u001b[38;5;28mzip\u001b[39m(slp_paths, results):\n",
      "File \u001b[0;32m~/miniforge3/envs/melee/lib/python3.10/multiprocessing/pool.py:367\u001b[0m, in \u001b[0;36mPool.map\u001b[0;34m(self, func, iterable, chunksize)\u001b[0m\n\u001b[1;32m    362\u001b[0m \u001b[38;5;28;01mdef\u001b[39;00m\u001b[38;5;250m \u001b[39m\u001b[38;5;21mmap\u001b[39m(\u001b[38;5;28mself\u001b[39m, func, iterable, chunksize\u001b[38;5;241m=\u001b[39m\u001b[38;5;28;01mNone\u001b[39;00m):\n\u001b[1;32m    363\u001b[0m \u001b[38;5;250m    \u001b[39m\u001b[38;5;124;03m'''\u001b[39;00m\n\u001b[1;32m    364\u001b[0m \u001b[38;5;124;03m    Apply `func` to each element in `iterable`, collecting the results\u001b[39;00m\n\u001b[1;32m    365\u001b[0m \u001b[38;5;124;03m    in a list that is returned.\u001b[39;00m\n\u001b[1;32m    366\u001b[0m \u001b[38;5;124;03m    '''\u001b[39;00m\n\u001b[0;32m--> 367\u001b[0m     \u001b[38;5;28;01mreturn\u001b[39;00m \u001b[38;5;28;43mself\u001b[39;49m\u001b[38;5;241;43m.\u001b[39;49m\u001b[43m_map_async\u001b[49m\u001b[43m(\u001b[49m\u001b[43mfunc\u001b[49m\u001b[43m,\u001b[49m\u001b[43m \u001b[49m\u001b[43miterable\u001b[49m\u001b[43m,\u001b[49m\u001b[43m \u001b[49m\u001b[43mmapstar\u001b[49m\u001b[43m,\u001b[49m\u001b[43m \u001b[49m\u001b[43mchunksize\u001b[49m\u001b[43m)\u001b[49m\u001b[38;5;241;43m.\u001b[39;49m\u001b[43mget\u001b[49m\u001b[43m(\u001b[49m\u001b[43m)\u001b[49m\n",
      "File \u001b[0;32m~/miniforge3/envs/melee/lib/python3.10/multiprocessing/pool.py:774\u001b[0m, in \u001b[0;36mApplyResult.get\u001b[0;34m(self, timeout)\u001b[0m\n\u001b[1;32m    772\u001b[0m     \u001b[38;5;28;01mreturn\u001b[39;00m \u001b[38;5;28mself\u001b[39m\u001b[38;5;241m.\u001b[39m_value\n\u001b[1;32m    773\u001b[0m \u001b[38;5;28;01melse\u001b[39;00m:\n\u001b[0;32m--> 774\u001b[0m     \u001b[38;5;28;01mraise\u001b[39;00m \u001b[38;5;28mself\u001b[39m\u001b[38;5;241m.\u001b[39m_value\n",
      "\u001b[0;31mOSError\u001b[0m: [Errno 28] No space left on device"
     ]
    }
   ],
   "source": [
    "# use multiprocessing to speed up the process\n",
    "print(f'working with {mp.cpu_count()} cores')\n",
    "with mp.Pool(processes=mp.cpu_count()) as pool:\n",
    "    results = pool.map(process_slp, slp_paths)\n",
    "    \n",
    "metadata = {}\n",
    "for k, v in zip(slp_paths, results):\n",
    "    metadata[os.path.basename(k)] = v\n",
    "\n",
    "with open(os.path.join(output_path, \"metadata.json\"), \"w\") as f:\n",
    "    json.dump(metadata, f)\n"
   ]
  }
 ],
 "metadata": {
  "kernelspec": {
   "display_name": "melee",
   "language": "python",
   "name": "python3"
  },
  "language_info": {
   "codemirror_mode": {
    "name": "ipython",
    "version": 3
   },
   "file_extension": ".py",
   "mimetype": "text/x-python",
   "name": "python",
   "nbconvert_exporter": "python",
   "pygments_lexer": "ipython3",
   "version": "3.10.17"
  }
 },
 "nbformat": 4,
 "nbformat_minor": 2
}
