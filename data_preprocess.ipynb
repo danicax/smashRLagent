{
 "cells": [
  {
   "cell_type": "code",
   "execution_count": null,
   "metadata": {},
   "outputs": [],
   "source": [
    "#!pip install tqdm"
   ]
  },
  {
   "cell_type": "code",
   "execution_count": null,
   "metadata": {},
   "outputs": [],
   "source": [
    "from tqdm import tqdm\n",
    "import melee\n",
    "import os\n",
    "import glob\n",
    "import torch\n",
    "import pickle\n",
    "import json\n",
    "import multiprocessing as mp\n",
    "from util import *"
   ]
  },
  {
   "cell_type": "code",
   "execution_count": 2,
   "metadata": {},
   "outputs": [
    {
     "name": "stdout",
     "output_type": "stream",
     "text": [
      "515\n"
     ]
    }
   ],
   "source": [
    "# REPLACE WITH YOUR PATH NAME\n",
    "source_path = \"replays\"\n",
    "#source_path = \"data\"\n",
    "# find all slp files in the data folder recursively\n",
    "slp_paths = glob.glob(os.path.join(source_path, \"**/*.slp\"), recursive=True)\n",
    "print(len(slp_paths))\n",
    "\n",
    "# output_path = \"data/processed\"\n",
    "output_path = \"data/train_mini_50\""
   ]
  },
  {
   "cell_type": "code",
   "execution_count": null,
   "metadata": {},
   "outputs": [],
   "source": [
    "def process_slp(slp):\n",
    "    states = []\n",
    "    actions = []\n",
    "    game_id = os.path.basename(slp).split(\".\")[0]\n",
    "    console = melee.Console(system=\"file\", allow_old_version=False, path=slp)\n",
    "    # console = melee.Console(system=\"file\", path=slp)\n",
    "    console.connect()\n",
    "    while True:\n",
    "        gs = console.step()\n",
    "        if gs is None:\n",
    "            break\n",
    "\n",
    "        controller_state = gs.players[1].controller_state  # or whichever field holds the input\n",
    "        act = get_controller_state(controller_state)\n",
    "\n",
    "        obs = make_obs(gs, max_projectiles=5)\n",
    "        states.append(obs)\n",
    "        actions.append(act)\n",
    "\n",
    "    # store the states and actions in a pkl file\n",
    "    os.makedirs(output_path, exist_ok=True)\n",
    "    with open(os.path.join(output_path, f\"{game_id}.pkl\"), \"wb\") as f:\n",
    "        pickle.dump({\"states\": states, \"actions\": actions}, f)\n",
    "\n",
    "    return len(actions)"
   ]
  },
  {
   "cell_type": "code",
   "execution_count": null,
   "metadata": {},
   "outputs": [
    {
     "name": "stdout",
     "output_type": "stream",
     "text": [
      "working with 12 cores\n"
     ]
    }
   ],
   "source": [
    "# use multiprocessing to speed up the process\n",
    "print(f'working with {mp.cpu_count()} cores')\n",
    "with mp.Pool(processes=mp.cpu_count()) as pool:\n",
    "    results = pool.map(process_slp, slp_paths[:50])\n",
    "    # results = pool.map(process_slp, slp_paths)\n",
    "    \n",
    "metadata = {}\n",
    "for k, v in zip(slp_paths, results):\n",
    "    metadata[os.path.basename(k)] = v\n",
    "\n",
    "with open(os.path.join(output_path, \"metadata.json\"), \"w\") as f:\n",
    "    json.dump(metadata, f)\n"
   ]
  }
 ],
 "metadata": {
  "kernelspec": {
   "display_name": "base",
   "language": "python",
   "name": "python3"
  },
  "language_info": {
   "codemirror_mode": {
    "name": "ipython",
    "version": 3
   },
   "file_extension": ".py",
   "mimetype": "text/x-python",
   "name": "python",
   "nbconvert_exporter": "python",
   "pygments_lexer": "ipython3",
   "version": "3.10.6"
  }
 },
 "nbformat": 4,
 "nbformat_minor": 2
}
