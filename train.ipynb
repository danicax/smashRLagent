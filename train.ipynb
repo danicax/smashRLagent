{
 "cells": [
  {
   "cell_type": "code",
   "execution_count": 1,
   "metadata": {},
   "outputs": [],
   "source": [
    "from melee_dataset import MeleeDataset\n",
    "import torch.nn as nn\n",
    "import torch.optim as optim\n",
    "from torch.utils.data import DataLoader\n",
    "from tqdm import tqdm\n",
    "import torch\n",
    "from torch.distributions import Categorical\n",
    "from torch.distributions import Bernoulli,Normal\n",
    "import matplotlib.pyplot as plt\n",
    "from PolicyNet import PolicyNet\n",
    "import torch.nn.functional as F\n",
    "from Agents.BCAgent import BCAgent\n",
    "\n",
    "%load_ext autoreload\n",
    "%autoreload 2"
   ]
  },
  {
   "cell_type": "code",
   "execution_count": 34,
   "metadata": {},
   "outputs": [],
   "source": [
    "train_dataset = MeleeDataset(data_path=\"data/train_mini_5\")\n",
    "# train_dataset = MeleeDataset(data_path=\"data/train_mini_40\")\n",
    "# train_dataset = MeleeDataset(data_path=\"data/train_mini_5_fox_falco_dl\")\n",
    "# train_dataset = MeleeDataset(data_path=\"data/train_mini_10_with_hitstun\")\n",
    "train_loader = DataLoader(train_dataset, batch_size=128, shuffle=True)\n",
    "\n",
    "val_dataset = MeleeDataset(data_path=\"data/val_mini_1\")\n",
    "# val_dataset = MeleeDataset(data_path=\"data/val_mini_10\")\n",
    "# val_dataset = MeleeDataset(data_path=\"data/val_mini_2_with_hitstun\")\n",
    "val_loader = DataLoader(val_dataset, batch_size=128, shuffle=True)\n"
   ]
  },
  {
   "cell_type": "code",
   "execution_count": 3,
   "metadata": {},
   "outputs": [
    {
     "name": "stdout",
     "output_type": "stream",
     "text": [
      "obs_dim: torch.Size([70])\n",
      "act_dim: torch.Size([17])\n"
     ]
    }
   ],
   "source": [
    "print(f\"obs_dim: {train_dataset[0][0].shape}\")\n",
    "print(f\"act_dim: {train_dataset[0][1].shape}\")"
   ]
  },
  {
   "cell_type": "code",
   "execution_count": null,
   "metadata": {},
   "outputs": [
    {
     "name": "stdout",
     "output_type": "stream",
     "text": [
      "Using device: cuda\n"
     ]
    },
    {
     "name": "stderr",
     "output_type": "stream",
     "text": [
      "0it [00:00, ?it/s]"
     ]
    },
    {
     "name": "stderr",
     "output_type": "stream",
     "text": [
      "73it [00:00, 1038.29it/s]\n",
      "355it [00:01, 324.09it/s]\n"
     ]
    },
    {
     "name": "stdout",
     "output_type": "stream",
     "text": [
      "Epoch 1 — Val Loss: 13.0538\n",
      "Epoch 1 — Loss: 14.5954\n"
     ]
    },
    {
     "name": "stderr",
     "output_type": "stream",
     "text": [
      "73it [00:00, 1046.21it/s]\n",
      "355it [00:00, 370.64it/s]\n"
     ]
    },
    {
     "name": "stdout",
     "output_type": "stream",
     "text": [
      "Epoch 2 — Val Loss: 10.2494\n",
      "Epoch 2 — Loss: 11.5381\n"
     ]
    },
    {
     "name": "stderr",
     "output_type": "stream",
     "text": [
      "73it [00:00, 1050.35it/s]\n",
      "355it [00:01, 335.99it/s]\n"
     ]
    },
    {
     "name": "stdout",
     "output_type": "stream",
     "text": [
      "Epoch 3 — Val Loss: 7.9949\n",
      "Epoch 3 — Loss: 8.9422\n"
     ]
    },
    {
     "name": "stderr",
     "output_type": "stream",
     "text": [
      "73it [00:00, 1054.59it/s]\n",
      "355it [00:00, 394.26it/s]\n"
     ]
    },
    {
     "name": "stdout",
     "output_type": "stream",
     "text": [
      "Epoch 4 — Val Loss: 6.0977\n",
      "Epoch 4 — Loss: 6.8371\n"
     ]
    },
    {
     "name": "stderr",
     "output_type": "stream",
     "text": [
      "73it [00:00, 1043.08it/s]\n",
      "355it [00:00, 379.47it/s]\n"
     ]
    },
    {
     "name": "stdout",
     "output_type": "stream",
     "text": [
      "Epoch 5 — Val Loss: 4.5463\n",
      "Epoch 5 — Loss: 5.0898\n"
     ]
    },
    {
     "name": "stderr",
     "output_type": "stream",
     "text": [
      "73it [00:00, 1059.00it/s]\n",
      "355it [00:00, 376.15it/s]\n"
     ]
    },
    {
     "name": "stdout",
     "output_type": "stream",
     "text": [
      "Epoch 6 — Val Loss: 3.2153\n",
      "Epoch 6 — Loss: 3.5934\n"
     ]
    },
    {
     "name": "stderr",
     "output_type": "stream",
     "text": [
      "73it [00:00, 1023.15it/s]\n",
      "355it [00:01, 314.55it/s]\n"
     ]
    },
    {
     "name": "stdout",
     "output_type": "stream",
     "text": [
      "Epoch 7 — Val Loss: 2.0254\n",
      "Epoch 7 — Loss: 2.3089\n"
     ]
    },
    {
     "name": "stderr",
     "output_type": "stream",
     "text": [
      "73it [00:00, 1028.91it/s]\n",
      "355it [00:01, 324.12it/s]\n"
     ]
    },
    {
     "name": "stdout",
     "output_type": "stream",
     "text": [
      "Epoch 8 — Val Loss: 0.9164\n",
      "Epoch 8 — Loss: 1.0857\n"
     ]
    },
    {
     "name": "stderr",
     "output_type": "stream",
     "text": [
      "73it [00:00, 1020.93it/s]\n",
      "355it [00:01, 324.13it/s]\n"
     ]
    },
    {
     "name": "stdout",
     "output_type": "stream",
     "text": [
      "Epoch 9 — Val Loss: -0.0470\n",
      "Epoch 9 — Loss: -0.0377\n"
     ]
    },
    {
     "name": "stderr",
     "output_type": "stream",
     "text": [
      "73it [00:00, 1017.66it/s]\n",
      "355it [00:01, 323.18it/s]\n"
     ]
    },
    {
     "name": "stdout",
     "output_type": "stream",
     "text": [
      "Epoch 10 — Val Loss: -1.0377\n",
      "Epoch 10 — Loss: -1.0931\n"
     ]
    },
    {
     "name": "stderr",
     "output_type": "stream",
     "text": [
      "73it [00:00, 976.05it/s]]\n",
      "355it [00:01, 315.01it/s]\n"
     ]
    },
    {
     "name": "stdout",
     "output_type": "stream",
     "text": [
      "Epoch 11 — Val Loss: -1.8306\n",
      "Epoch 11 — Loss: -2.0495\n"
     ]
    },
    {
     "name": "stderr",
     "output_type": "stream",
     "text": [
      "73it [00:00, 979.57it/s]]\n",
      "355it [00:01, 319.47it/s]\n"
     ]
    },
    {
     "name": "stdout",
     "output_type": "stream",
     "text": [
      "Epoch 12 — Val Loss: -2.6657\n",
      "Epoch 12 — Loss: -2.9267\n"
     ]
    },
    {
     "name": "stderr",
     "output_type": "stream",
     "text": [
      "73it [00:00, 1044.80it/s]\n",
      "355it [00:01, 341.45it/s]\n"
     ]
    },
    {
     "name": "stdout",
     "output_type": "stream",
     "text": [
      "Epoch 13 — Val Loss: -3.3894\n",
      "Epoch 13 — Loss: -3.7572\n"
     ]
    },
    {
     "name": "stderr",
     "output_type": "stream",
     "text": [
      "73it [00:00, 1036.31it/s]\n",
      "355it [00:01, 331.41it/s]\n"
     ]
    },
    {
     "name": "stdout",
     "output_type": "stream",
     "text": [
      "Epoch 14 — Val Loss: -4.1166\n",
      "Epoch 14 — Loss: -4.5481\n"
     ]
    },
    {
     "name": "stderr",
     "output_type": "stream",
     "text": [
      "73it [00:00, 1040.03it/s]\n",
      "355it [00:00, 358.99it/s]\n"
     ]
    },
    {
     "name": "stdout",
     "output_type": "stream",
     "text": [
      "Epoch 15 — Val Loss: -4.7961\n",
      "Epoch 15 — Loss: -5.3431\n"
     ]
    },
    {
     "name": "stderr",
     "output_type": "stream",
     "text": [
      "73it [00:00, 1059.94it/s]\n",
      "355it [00:01, 348.80it/s]\n"
     ]
    },
    {
     "name": "stdout",
     "output_type": "stream",
     "text": [
      "Epoch 16 — Val Loss: -5.4197\n",
      "Epoch 16 — Loss: -6.0368\n"
     ]
    },
    {
     "name": "stderr",
     "output_type": "stream",
     "text": [
      "73it [00:00, 1036.19it/s]\n",
      "355it [00:01, 342.43it/s]\n"
     ]
    },
    {
     "name": "stdout",
     "output_type": "stream",
     "text": [
      "Epoch 17 — Val Loss: -6.1630\n",
      "Epoch 17 — Loss: -6.7434\n"
     ]
    },
    {
     "name": "stderr",
     "output_type": "stream",
     "text": [
      "73it [00:00, 1083.71it/s]\n",
      "355it [00:00, 356.47it/s]\n"
     ]
    },
    {
     "name": "stdout",
     "output_type": "stream",
     "text": [
      "Epoch 18 — Val Loss: -6.7712\n",
      "Epoch 18 — Loss: -7.4433\n"
     ]
    },
    {
     "name": "stderr",
     "output_type": "stream",
     "text": [
      "73it [00:00, 1071.06it/s]\n",
      "355it [00:01, 348.42it/s]\n"
     ]
    },
    {
     "name": "stdout",
     "output_type": "stream",
     "text": [
      "Epoch 19 — Val Loss: -7.4450\n",
      "Epoch 19 — Loss: -8.1306\n"
     ]
    },
    {
     "name": "stderr",
     "output_type": "stream",
     "text": [
      "73it [00:00, 1059.12it/s]\n",
      "355it [00:00, 366.92it/s]\n"
     ]
    },
    {
     "name": "stdout",
     "output_type": "stream",
     "text": [
      "Epoch 20 — Val Loss: -8.2157\n",
      "Epoch 20 — Loss: -8.8460\n"
     ]
    },
    {
     "name": "stderr",
     "output_type": "stream",
     "text": [
      "73it [00:00, 1018.47it/s]\n",
      "355it [00:01, 354.06it/s]\n"
     ]
    },
    {
     "name": "stdout",
     "output_type": "stream",
     "text": [
      "Epoch 21 — Val Loss: -8.7620\n",
      "Epoch 21 — Loss: -9.4888\n"
     ]
    },
    {
     "name": "stderr",
     "output_type": "stream",
     "text": [
      "73it [00:00, 1046.58it/s]\n",
      "355it [00:01, 340.13it/s]\n"
     ]
    },
    {
     "name": "stdout",
     "output_type": "stream",
     "text": [
      "Epoch 22 — Val Loss: -9.3692\n",
      "Epoch 22 — Loss: -10.1488\n"
     ]
    },
    {
     "name": "stderr",
     "output_type": "stream",
     "text": [
      "73it [00:00, 1061.15it/s]\n",
      "355it [00:01, 344.71it/s]\n"
     ]
    },
    {
     "name": "stdout",
     "output_type": "stream",
     "text": [
      "Epoch 23 — Val Loss: -10.0650\n",
      "Epoch 23 — Loss: -10.7811\n"
     ]
    },
    {
     "name": "stderr",
     "output_type": "stream",
     "text": [
      "73it [00:00, 1081.50it/s]\n",
      "355it [00:01, 347.33it/s]\n"
     ]
    },
    {
     "name": "stdout",
     "output_type": "stream",
     "text": [
      "Epoch 24 — Val Loss: -10.5494\n",
      "Epoch 24 — Loss: -11.3818\n"
     ]
    },
    {
     "name": "stderr",
     "output_type": "stream",
     "text": [
      "73it [00:00, 1079.63it/s]\n",
      "355it [00:00, 390.64it/s]\n"
     ]
    },
    {
     "name": "stdout",
     "output_type": "stream",
     "text": [
      "Epoch 25 — Val Loss: -11.3166\n",
      "Epoch 25 — Loss: -12.0544\n"
     ]
    },
    {
     "name": "stderr",
     "output_type": "stream",
     "text": [
      "73it [00:00, 1047.69it/s]\n",
      "355it [00:01, 340.32it/s]\n"
     ]
    },
    {
     "name": "stdout",
     "output_type": "stream",
     "text": [
      "Epoch 26 — Val Loss: -11.8023\n",
      "Epoch 26 — Loss: -12.6848\n"
     ]
    },
    {
     "name": "stderr",
     "output_type": "stream",
     "text": [
      "73it [00:00, 1052.32it/s]\n",
      "355it [00:01, 341.70it/s]\n"
     ]
    },
    {
     "name": "stdout",
     "output_type": "stream",
     "text": [
      "Epoch 27 — Val Loss: -12.2891\n",
      "Epoch 27 — Loss: -13.2547\n"
     ]
    },
    {
     "name": "stderr",
     "output_type": "stream",
     "text": [
      "73it [00:00, 1043.07it/s]\n",
      "355it [00:00, 359.81it/s]\n"
     ]
    },
    {
     "name": "stdout",
     "output_type": "stream",
     "text": [
      "Epoch 28 — Val Loss: -13.1009\n",
      "Epoch 28 — Loss: -13.8661\n"
     ]
    },
    {
     "name": "stderr",
     "output_type": "stream",
     "text": [
      "73it [00:00, 1025.58it/s]\n",
      "355it [00:00, 367.37it/s]\n"
     ]
    },
    {
     "name": "stdout",
     "output_type": "stream",
     "text": [
      "Epoch 29 — Val Loss: -13.6750\n",
      "Epoch 29 — Loss: -14.4842\n"
     ]
    },
    {
     "name": "stderr",
     "output_type": "stream",
     "text": [
      "73it [00:00, 1028.27it/s]\n",
      "355it [00:01, 343.00it/s]\n"
     ]
    },
    {
     "name": "stdout",
     "output_type": "stream",
     "text": [
      "Epoch 30 — Val Loss: -14.0420\n",
      "Epoch 30 — Loss: -15.0865\n"
     ]
    },
    {
     "name": "stderr",
     "output_type": "stream",
     "text": [
      "73it [00:00, 1065.19it/s]\n",
      "355it [00:01, 345.02it/s]\n"
     ]
    },
    {
     "name": "stdout",
     "output_type": "stream",
     "text": [
      "Epoch 31 — Val Loss: -14.8307\n",
      "Epoch 31 — Loss: -15.6990\n"
     ]
    },
    {
     "name": "stderr",
     "output_type": "stream",
     "text": [
      "73it [00:00, 1043.52it/s]\n",
      "355it [00:01, 346.45it/s]\n"
     ]
    },
    {
     "name": "stdout",
     "output_type": "stream",
     "text": [
      "Epoch 32 — Val Loss: -15.3455\n",
      "Epoch 32 — Loss: -16.3723\n"
     ]
    },
    {
     "name": "stderr",
     "output_type": "stream",
     "text": [
      "73it [00:00, 1036.50it/s]\n",
      "355it [00:01, 343.05it/s]\n"
     ]
    },
    {
     "name": "stdout",
     "output_type": "stream",
     "text": [
      "Epoch 33 — Val Loss: -16.0014\n",
      "Epoch 33 — Loss: -16.9971\n"
     ]
    },
    {
     "name": "stderr",
     "output_type": "stream",
     "text": [
      "73it [00:00, 1062.16it/s]\n",
      "355it [00:01, 345.35it/s]\n"
     ]
    },
    {
     "name": "stdout",
     "output_type": "stream",
     "text": [
      "Epoch 34 — Val Loss: -16.6868\n",
      "Epoch 34 — Loss: -17.6293\n"
     ]
    },
    {
     "name": "stderr",
     "output_type": "stream",
     "text": [
      "73it [00:00, 1061.92it/s]\n",
      "355it [00:01, 344.51it/s]\n"
     ]
    },
    {
     "name": "stdout",
     "output_type": "stream",
     "text": [
      "Epoch 35 — Val Loss: -17.2559\n",
      "Epoch 35 — Loss: -18.2448\n"
     ]
    },
    {
     "name": "stderr",
     "output_type": "stream",
     "text": [
      "73it [00:00, 1031.21it/s]\n",
      "355it [00:00, 378.09it/s]\n"
     ]
    },
    {
     "name": "stdout",
     "output_type": "stream",
     "text": [
      "Epoch 36 — Val Loss: -17.8287\n",
      "Epoch 36 — Loss: -18.9053\n"
     ]
    },
    {
     "name": "stderr",
     "output_type": "stream",
     "text": [
      "73it [00:00, 984.25it/s]]\n",
      "355it [00:01, 331.29it/s]\n"
     ]
    },
    {
     "name": "stdout",
     "output_type": "stream",
     "text": [
      "Epoch 37 — Val Loss: -18.3227\n",
      "Epoch 37 — Loss: -19.4995\n"
     ]
    },
    {
     "name": "stderr",
     "output_type": "stream",
     "text": [
      "73it [00:00, 1027.48it/s]\n",
      "355it [00:01, 325.52it/s]\n"
     ]
    },
    {
     "name": "stdout",
     "output_type": "stream",
     "text": [
      "Epoch 38 — Val Loss: -19.0358\n",
      "Epoch 38 — Loss: -20.1248\n"
     ]
    },
    {
     "name": "stderr",
     "output_type": "stream",
     "text": [
      "73it [00:00, 1007.79it/s]\n",
      "355it [00:01, 332.96it/s]\n"
     ]
    },
    {
     "name": "stdout",
     "output_type": "stream",
     "text": [
      "Epoch 39 — Val Loss: -19.4919\n",
      "Epoch 39 — Loss: -20.7414\n"
     ]
    },
    {
     "name": "stderr",
     "output_type": "stream",
     "text": [
      "73it [00:00, 1034.71it/s]\n",
      "355it [00:01, 329.99it/s]\n"
     ]
    },
    {
     "name": "stdout",
     "output_type": "stream",
     "text": [
      "Epoch 40 — Val Loss: -20.3208\n",
      "Epoch 40 — Loss: -21.3802\n"
     ]
    },
    {
     "name": "stderr",
     "output_type": "stream",
     "text": [
      "73it [00:00, 1047.34it/s]\n",
      "355it [00:01, 321.65it/s]\n"
     ]
    },
    {
     "name": "stdout",
     "output_type": "stream",
     "text": [
      "Epoch 41 — Val Loss: -20.9554\n",
      "Epoch 41 — Loss: -22.0077\n"
     ]
    },
    {
     "name": "stderr",
     "output_type": "stream",
     "text": [
      "73it [00:00, 1041.35it/s]\n",
      "355it [00:01, 348.77it/s]\n"
     ]
    },
    {
     "name": "stdout",
     "output_type": "stream",
     "text": [
      "Epoch 42 — Val Loss: -21.4596\n",
      "Epoch 42 — Loss: -22.6445\n"
     ]
    },
    {
     "name": "stderr",
     "output_type": "stream",
     "text": [
      "73it [00:00, 1051.05it/s]\n",
      "355it [00:01, 339.02it/s]\n"
     ]
    },
    {
     "name": "stdout",
     "output_type": "stream",
     "text": [
      "Epoch 43 — Val Loss: -22.0508\n",
      "Epoch 43 — Loss: -23.2364\n"
     ]
    },
    {
     "name": "stderr",
     "output_type": "stream",
     "text": [
      "73it [00:00, 1023.64it/s]\n",
      "355it [00:01, 319.78it/s]\n"
     ]
    },
    {
     "name": "stdout",
     "output_type": "stream",
     "text": [
      "Epoch 44 — Val Loss: -22.5323\n",
      "Epoch 44 — Loss: -23.8607\n"
     ]
    },
    {
     "name": "stderr",
     "output_type": "stream",
     "text": [
      "73it [00:00, 1042.25it/s]\n",
      "355it [00:01, 322.48it/s]\n"
     ]
    },
    {
     "name": "stdout",
     "output_type": "stream",
     "text": [
      "Epoch 45 — Val Loss: -23.3360\n",
      "Epoch 45 — Loss: -24.4935\n"
     ]
    },
    {
     "name": "stderr",
     "output_type": "stream",
     "text": [
      "73it [00:00, 1013.99it/s]\n",
      "355it [00:01, 328.12it/s]\n"
     ]
    },
    {
     "name": "stdout",
     "output_type": "stream",
     "text": [
      "Epoch 46 — Val Loss: -23.9839\n",
      "Epoch 46 — Loss: -25.1125\n"
     ]
    },
    {
     "name": "stderr",
     "output_type": "stream",
     "text": [
      "73it [00:00, 962.27it/s]]\n",
      "355it [00:01, 336.58it/s]\n"
     ]
    },
    {
     "name": "stdout",
     "output_type": "stream",
     "text": [
      "Epoch 47 — Val Loss: -24.4991\n",
      "Epoch 47 — Loss: -25.7186\n"
     ]
    },
    {
     "name": "stderr",
     "output_type": "stream",
     "text": [
      "73it [00:00, 1018.86it/s]\n",
      "355it [00:00, 362.67it/s]\n"
     ]
    },
    {
     "name": "stdout",
     "output_type": "stream",
     "text": [
      "Epoch 48 — Val Loss: -24.9544\n",
      "Epoch 48 — Loss: -26.3797\n"
     ]
    },
    {
     "name": "stderr",
     "output_type": "stream",
     "text": [
      "73it [00:00, 1050.44it/s]\n",
      "355it [00:01, 336.78it/s]\n"
     ]
    },
    {
     "name": "stdout",
     "output_type": "stream",
     "text": [
      "Epoch 49 — Val Loss: -25.8267\n",
      "Epoch 49 — Loss: -26.9781\n"
     ]
    },
    {
     "name": "stderr",
     "output_type": "stream",
     "text": [
      "73it [00:00, 1021.34it/s]\n",
      "355it [00:01, 345.07it/s]\n"
     ]
    },
    {
     "name": "stdout",
     "output_type": "stream",
     "text": [
      "Epoch 50 — Val Loss: -26.0630\n",
      "Epoch 50 — Loss: -27.5746\n"
     ]
    },
    {
     "name": "stderr",
     "output_type": "stream",
     "text": [
      "73it [00:00, 1051.64it/s]\n",
      "355it [00:01, 350.35it/s]\n"
     ]
    },
    {
     "name": "stdout",
     "output_type": "stream",
     "text": [
      "Epoch 51 — Val Loss: -26.8491\n",
      "Epoch 51 — Loss: -28.2095\n"
     ]
    },
    {
     "name": "stderr",
     "output_type": "stream",
     "text": [
      "73it [00:00, 1059.21it/s]\n",
      "355it [00:01, 346.34it/s]\n"
     ]
    },
    {
     "name": "stdout",
     "output_type": "stream",
     "text": [
      "Epoch 52 — Val Loss: -27.6488\n",
      "Epoch 52 — Loss: -28.8374\n"
     ]
    },
    {
     "name": "stderr",
     "output_type": "stream",
     "text": [
      "73it [00:00, 1043.82it/s]\n",
      "355it [00:01, 345.76it/s]\n"
     ]
    },
    {
     "name": "stdout",
     "output_type": "stream",
     "text": [
      "Epoch 53 — Val Loss: -28.2457\n",
      "Epoch 53 — Loss: -29.4562\n"
     ]
    },
    {
     "name": "stderr",
     "output_type": "stream",
     "text": [
      "73it [00:00, 1023.49it/s]\n",
      "355it [00:01, 338.75it/s]\n"
     ]
    },
    {
     "name": "stdout",
     "output_type": "stream",
     "text": [
      "Epoch 54 — Val Loss: -28.7422\n",
      "Epoch 54 — Loss: -30.0379\n"
     ]
    },
    {
     "name": "stderr",
     "output_type": "stream",
     "text": [
      "73it [00:00, 1071.68it/s]\n",
      "355it [00:00, 355.77it/s]\n"
     ]
    },
    {
     "name": "stdout",
     "output_type": "stream",
     "text": [
      "Epoch 55 — Val Loss: -29.2875\n",
      "Epoch 55 — Loss: -30.6512\n"
     ]
    },
    {
     "name": "stderr",
     "output_type": "stream",
     "text": [
      "73it [00:00, 1051.31it/s]\n",
      "355it [00:00, 356.15it/s]\n"
     ]
    },
    {
     "name": "stdout",
     "output_type": "stream",
     "text": [
      "Epoch 56 — Val Loss: -29.7959\n",
      "Epoch 56 — Loss: -31.2349\n"
     ]
    },
    {
     "name": "stderr",
     "output_type": "stream",
     "text": [
      "73it [00:00, 1038.28it/s]\n",
      "355it [00:01, 338.15it/s]\n"
     ]
    },
    {
     "name": "stdout",
     "output_type": "stream",
     "text": [
      "Epoch 57 — Val Loss: -30.2952\n",
      "Epoch 57 — Loss: -31.8558\n"
     ]
    },
    {
     "name": "stderr",
     "output_type": "stream",
     "text": [
      "73it [00:00, 1050.83it/s]\n",
      "355it [00:01, 344.13it/s]\n"
     ]
    },
    {
     "name": "stdout",
     "output_type": "stream",
     "text": [
      "Epoch 58 — Val Loss: -30.9080\n",
      "Epoch 58 — Loss: -32.3994\n"
     ]
    },
    {
     "name": "stderr",
     "output_type": "stream",
     "text": [
      "73it [00:00, 1060.87it/s]\n",
      "355it [00:00, 377.91it/s]\n"
     ]
    },
    {
     "name": "stdout",
     "output_type": "stream",
     "text": [
      "Epoch 59 — Val Loss: -31.5806\n",
      "Epoch 59 — Loss: -32.9803\n"
     ]
    },
    {
     "name": "stderr",
     "output_type": "stream",
     "text": [
      "73it [00:00, 1032.37it/s]\n",
      "355it [00:01, 334.99it/s]\n"
     ]
    },
    {
     "name": "stdout",
     "output_type": "stream",
     "text": [
      "Epoch 60 — Val Loss: -32.1368\n",
      "Epoch 60 — Loss: -33.5656\n"
     ]
    },
    {
     "name": "stderr",
     "output_type": "stream",
     "text": [
      "73it [00:00, 1058.54it/s]\n",
      "355it [00:01, 336.31it/s]\n"
     ]
    },
    {
     "name": "stdout",
     "output_type": "stream",
     "text": [
      "Epoch 61 — Val Loss: -32.8752\n",
      "Epoch 61 — Loss: -34.1664\n"
     ]
    },
    {
     "name": "stderr",
     "output_type": "stream",
     "text": [
      "73it [00:00, 1028.82it/s]\n",
      "355it [00:01, 333.42it/s]\n"
     ]
    },
    {
     "name": "stdout",
     "output_type": "stream",
     "text": [
      "Epoch 62 — Val Loss: -33.3225\n",
      "Epoch 62 — Loss: -34.7865\n"
     ]
    },
    {
     "name": "stderr",
     "output_type": "stream",
     "text": [
      "73it [00:00, 1032.07it/s]\n",
      "355it [00:01, 333.14it/s]\n"
     ]
    },
    {
     "name": "stdout",
     "output_type": "stream",
     "text": [
      "Epoch 63 — Val Loss: -33.9748\n",
      "Epoch 63 — Loss: -35.3706\n"
     ]
    },
    {
     "name": "stderr",
     "output_type": "stream",
     "text": [
      "73it [00:00, 962.18it/s]]\n",
      "355it [00:01, 337.72it/s]\n"
     ]
    },
    {
     "name": "stdout",
     "output_type": "stream",
     "text": [
      "Epoch 64 — Val Loss: -34.4739\n",
      "Epoch 64 — Loss: -35.9343\n"
     ]
    },
    {
     "name": "stderr",
     "output_type": "stream",
     "text": [
      "73it [00:00, 1028.73it/s]\n",
      "355it [00:00, 373.03it/s]\n"
     ]
    },
    {
     "name": "stdout",
     "output_type": "stream",
     "text": [
      "Epoch 65 — Val Loss: -34.9802\n",
      "Epoch 65 — Loss: -36.4669\n"
     ]
    },
    {
     "name": "stderr",
     "output_type": "stream",
     "text": [
      "73it [00:00, 932.40it/s]]\n",
      "355it [00:01, 342.69it/s]\n"
     ]
    },
    {
     "name": "stdout",
     "output_type": "stream",
     "text": [
      "Epoch 66 — Val Loss: -35.5590\n",
      "Epoch 66 — Loss: -37.0466\n"
     ]
    },
    {
     "name": "stderr",
     "output_type": "stream",
     "text": [
      "73it [00:00, 1063.86it/s]\n",
      "355it [00:00, 359.09it/s]\n"
     ]
    },
    {
     "name": "stdout",
     "output_type": "stream",
     "text": [
      "Epoch 67 — Val Loss: -36.3233\n",
      "Epoch 67 — Loss: -37.6258\n"
     ]
    },
    {
     "name": "stderr",
     "output_type": "stream",
     "text": [
      "73it [00:00, 1042.76it/s]\n",
      "355it [00:00, 363.83it/s]\n"
     ]
    },
    {
     "name": "stdout",
     "output_type": "stream",
     "text": [
      "Epoch 68 — Val Loss: -36.6315\n",
      "Epoch 68 — Loss: -38.1759\n"
     ]
    },
    {
     "name": "stderr",
     "output_type": "stream",
     "text": [
      "73it [00:00, 929.47it/s]]\n",
      "355it [00:01, 318.54it/s]\n"
     ]
    },
    {
     "name": "stdout",
     "output_type": "stream",
     "text": [
      "Epoch 69 — Val Loss: -37.3398\n",
      "Epoch 69 — Loss: -38.7034\n"
     ]
    },
    {
     "name": "stderr",
     "output_type": "stream",
     "text": [
      "73it [00:00, 1067.84it/s]\n",
      "355it [00:01, 321.62it/s]\n"
     ]
    },
    {
     "name": "stdout",
     "output_type": "stream",
     "text": [
      "Epoch 70 — Val Loss: -37.8256\n",
      "Epoch 70 — Loss: -39.2803\n"
     ]
    },
    {
     "name": "stderr",
     "output_type": "stream",
     "text": [
      "73it [00:00, 1066.94it/s]\n",
      "355it [00:01, 342.84it/s]\n"
     ]
    },
    {
     "name": "stdout",
     "output_type": "stream",
     "text": [
      "Epoch 71 — Val Loss: -38.0445\n",
      "Epoch 71 — Loss: -39.8589\n"
     ]
    },
    {
     "name": "stderr",
     "output_type": "stream",
     "text": [
      "73it [00:00, 1053.67it/s]\n",
      "355it [00:00, 367.07it/s]\n"
     ]
    },
    {
     "name": "stdout",
     "output_type": "stream",
     "text": [
      "Epoch 72 — Val Loss: -39.0092\n",
      "Epoch 72 — Loss: -40.4055\n"
     ]
    },
    {
     "name": "stderr",
     "output_type": "stream",
     "text": [
      "73it [00:00, 1058.11it/s]\n",
      "355it [00:01, 350.90it/s]\n"
     ]
    },
    {
     "name": "stdout",
     "output_type": "stream",
     "text": [
      "Epoch 73 — Val Loss: -39.4028\n",
      "Epoch 73 — Loss: -40.9257\n"
     ]
    },
    {
     "name": "stderr",
     "output_type": "stream",
     "text": [
      "73it [00:00, 1034.38it/s]\n",
      "355it [00:00, 384.78it/s]\n"
     ]
    },
    {
     "name": "stdout",
     "output_type": "stream",
     "text": [
      "Epoch 74 — Val Loss: -39.9077\n",
      "Epoch 74 — Loss: -41.4741\n"
     ]
    },
    {
     "name": "stderr",
     "output_type": "stream",
     "text": [
      "73it [00:00, 1058.41it/s]\n",
      "355it [00:01, 337.62it/s]\n"
     ]
    },
    {
     "name": "stdout",
     "output_type": "stream",
     "text": [
      "Epoch 75 — Val Loss: -40.5253\n",
      "Epoch 75 — Loss: -41.9604\n"
     ]
    },
    {
     "name": "stderr",
     "output_type": "stream",
     "text": [
      "73it [00:00, 1037.98it/s]\n",
      "355it [00:01, 335.73it/s]\n"
     ]
    },
    {
     "name": "stdout",
     "output_type": "stream",
     "text": [
      "Epoch 76 — Val Loss: -40.9646\n",
      "Epoch 76 — Loss: -42.5165\n"
     ]
    },
    {
     "name": "stderr",
     "output_type": "stream",
     "text": [
      "73it [00:00, 1014.56it/s]\n",
      "355it [00:01, 333.44it/s]\n"
     ]
    },
    {
     "name": "stdout",
     "output_type": "stream",
     "text": [
      "Epoch 77 — Val Loss: -41.6922\n",
      "Epoch 77 — Loss: -43.0757\n"
     ]
    },
    {
     "name": "stderr",
     "output_type": "stream",
     "text": [
      "73it [00:00, 1007.23it/s]\n",
      "355it [00:01, 338.70it/s]\n"
     ]
    },
    {
     "name": "stdout",
     "output_type": "stream",
     "text": [
      "Epoch 78 — Val Loss: -41.9254\n",
      "Epoch 78 — Loss: -43.5464\n"
     ]
    },
    {
     "name": "stderr",
     "output_type": "stream",
     "text": [
      "73it [00:00, 1044.89it/s]\n",
      "355it [00:01, 329.98it/s]\n"
     ]
    },
    {
     "name": "stdout",
     "output_type": "stream",
     "text": [
      "Epoch 79 — Val Loss: -42.5377\n",
      "Epoch 79 — Loss: -44.0531\n"
     ]
    },
    {
     "name": "stderr",
     "output_type": "stream",
     "text": [
      "73it [00:00, 1028.40it/s]\n",
      "355it [00:00, 369.03it/s]\n"
     ]
    },
    {
     "name": "stdout",
     "output_type": "stream",
     "text": [
      "Epoch 80 — Val Loss: -43.0990\n",
      "Epoch 80 — Loss: -44.5639\n"
     ]
    },
    {
     "name": "stderr",
     "output_type": "stream",
     "text": [
      "73it [00:00, 1038.38it/s]\n",
      "355it [00:01, 335.44it/s]\n"
     ]
    },
    {
     "name": "stdout",
     "output_type": "stream",
     "text": [
      "Epoch 81 — Val Loss: -43.6621\n",
      "Epoch 81 — Loss: -45.0856\n"
     ]
    },
    {
     "name": "stderr",
     "output_type": "stream",
     "text": [
      "73it [00:00, 1046.69it/s]\n",
      "355it [00:01, 334.32it/s]\n"
     ]
    },
    {
     "name": "stdout",
     "output_type": "stream",
     "text": [
      "Epoch 82 — Val Loss: -44.0800\n",
      "Epoch 82 — Loss: -45.5674\n"
     ]
    },
    {
     "name": "stderr",
     "output_type": "stream",
     "text": [
      "73it [00:00, 1026.75it/s]\n",
      "355it [00:00, 371.34it/s]\n"
     ]
    },
    {
     "name": "stdout",
     "output_type": "stream",
     "text": [
      "Epoch 83 — Val Loss: -44.5021\n",
      "Epoch 83 — Loss: -46.0208\n"
     ]
    },
    {
     "name": "stderr",
     "output_type": "stream",
     "text": [
      "73it [00:00, 1023.97it/s]\n",
      "355it [00:00, 389.96it/s]\n"
     ]
    },
    {
     "name": "stdout",
     "output_type": "stream",
     "text": [
      "Epoch 84 — Val Loss: -44.9124\n",
      "Epoch 84 — Loss: -46.4470\n"
     ]
    },
    {
     "name": "stderr",
     "output_type": "stream",
     "text": [
      "73it [00:00, 1072.26it/s]\n",
      "355it [00:00, 355.43it/s]\n"
     ]
    },
    {
     "name": "stdout",
     "output_type": "stream",
     "text": [
      "Epoch 85 — Val Loss: -45.4331\n",
      "Epoch 85 — Loss: -46.9012\n"
     ]
    },
    {
     "name": "stderr",
     "output_type": "stream",
     "text": [
      "73it [00:00, 1064.33it/s]\n",
      "355it [00:01, 338.68it/s]\n"
     ]
    },
    {
     "name": "stdout",
     "output_type": "stream",
     "text": [
      "Epoch 86 — Val Loss: -45.9036\n",
      "Epoch 86 — Loss: -47.3242\n"
     ]
    },
    {
     "name": "stderr",
     "output_type": "stream",
     "text": [
      "73it [00:00, 1067.47it/s]\n",
      "355it [00:01, 338.15it/s]\n"
     ]
    },
    {
     "name": "stdout",
     "output_type": "stream",
     "text": [
      "Epoch 87 — Val Loss: -46.3728\n",
      "Epoch 87 — Loss: -47.7837\n"
     ]
    },
    {
     "name": "stderr",
     "output_type": "stream",
     "text": [
      "73it [00:00, 1045.54it/s]\n",
      "355it [00:00, 357.51it/s]\n"
     ]
    },
    {
     "name": "stdout",
     "output_type": "stream",
     "text": [
      "Epoch 88 — Val Loss: -46.7026\n",
      "Epoch 88 — Loss: -48.3203\n"
     ]
    },
    {
     "name": "stderr",
     "output_type": "stream",
     "text": [
      "73it [00:00, 1061.80it/s]\n",
      "355it [00:01, 333.24it/s]\n"
     ]
    },
    {
     "name": "stdout",
     "output_type": "stream",
     "text": [
      "Epoch 89 — Val Loss: -47.2799\n",
      "Epoch 89 — Loss: -48.8436\n"
     ]
    },
    {
     "name": "stderr",
     "output_type": "stream",
     "text": [
      "73it [00:00, 1047.42it/s]\n",
      "355it [00:01, 341.72it/s]\n"
     ]
    },
    {
     "name": "stdout",
     "output_type": "stream",
     "text": [
      "Epoch 90 — Val Loss: -47.8461\n",
      "Epoch 90 — Loss: -49.2973\n"
     ]
    },
    {
     "name": "stderr",
     "output_type": "stream",
     "text": [
      "73it [00:00, 1042.52it/s]\n",
      "355it [00:01, 342.46it/s]\n"
     ]
    },
    {
     "name": "stdout",
     "output_type": "stream",
     "text": [
      "Epoch 91 — Val Loss: -47.9861\n",
      "Epoch 91 — Loss: -49.7028\n"
     ]
    },
    {
     "name": "stderr",
     "output_type": "stream",
     "text": [
      "73it [00:00, 1050.06it/s]\n",
      "355it [00:01, 334.21it/s]\n"
     ]
    },
    {
     "name": "stdout",
     "output_type": "stream",
     "text": [
      "Epoch 92 — Val Loss: -48.3075\n",
      "Epoch 92 — Loss: -50.1311\n"
     ]
    },
    {
     "name": "stderr",
     "output_type": "stream",
     "text": [
      "73it [00:00, 1046.40it/s]\n",
      "355it [00:01, 341.49it/s]\n"
     ]
    },
    {
     "name": "stdout",
     "output_type": "stream",
     "text": [
      "Epoch 93 — Val Loss: -49.0090\n",
      "Epoch 93 — Loss: -50.5282\n"
     ]
    },
    {
     "name": "stderr",
     "output_type": "stream",
     "text": [
      "73it [00:00, 1005.22it/s]\n",
      "355it [00:01, 338.22it/s]\n"
     ]
    },
    {
     "name": "stdout",
     "output_type": "stream",
     "text": [
      "Epoch 94 — Val Loss: -49.0571\n",
      "Epoch 94 — Loss: -50.8297\n"
     ]
    },
    {
     "name": "stderr",
     "output_type": "stream",
     "text": [
      "73it [00:00, 1010.15it/s]\n",
      "355it [00:01, 325.65it/s]\n"
     ]
    },
    {
     "name": "stdout",
     "output_type": "stream",
     "text": [
      "Epoch 95 — Val Loss: -49.6472\n",
      "Epoch 95 — Loss: -51.1773\n"
     ]
    },
    {
     "name": "stderr",
     "output_type": "stream",
     "text": [
      "73it [00:00, 1054.10it/s]\n",
      "355it [00:00, 364.17it/s]\n"
     ]
    },
    {
     "name": "stdout",
     "output_type": "stream",
     "text": [
      "Epoch 96 — Val Loss: -50.0710\n",
      "Epoch 96 — Loss: -51.5448\n"
     ]
    },
    {
     "name": "stderr",
     "output_type": "stream",
     "text": [
      "73it [00:00, 1025.59it/s]\n",
      "355it [00:01, 341.39it/s]\n"
     ]
    },
    {
     "name": "stdout",
     "output_type": "stream",
     "text": [
      "Epoch 97 — Val Loss: -50.3426\n",
      "Epoch 97 — Loss: -51.9575\n"
     ]
    },
    {
     "name": "stderr",
     "output_type": "stream",
     "text": [
      "73it [00:00, 1036.91it/s]\n",
      "355it [00:01, 337.98it/s]\n"
     ]
    },
    {
     "name": "stdout",
     "output_type": "stream",
     "text": [
      "Epoch 98 — Val Loss: -50.9067\n",
      "Epoch 98 — Loss: -52.3537\n"
     ]
    },
    {
     "name": "stderr",
     "output_type": "stream",
     "text": [
      "73it [00:00, 1049.05it/s]\n",
      "355it [00:01, 339.08it/s]\n"
     ]
    },
    {
     "name": "stdout",
     "output_type": "stream",
     "text": [
      "Epoch 99 — Val Loss: -51.4092\n",
      "Epoch 99 — Loss: -52.8519\n"
     ]
    },
    {
     "name": "stderr",
     "output_type": "stream",
     "text": [
      "73it [00:00, 1036.51it/s]\n",
      "355it [00:01, 337.35it/s]\n"
     ]
    },
    {
     "name": "stdout",
     "output_type": "stream",
     "text": [
      "Epoch 100 — Val Loss: -51.5723\n",
      "Epoch 100 — Loss: -53.2672\n"
     ]
    },
    {
     "name": "stderr",
     "output_type": "stream",
     "text": [
      "73it [00:00, 1009.00it/s]\n",
      "355it [00:01, 342.42it/s]\n"
     ]
    },
    {
     "name": "stdout",
     "output_type": "stream",
     "text": [
      "Epoch 101 — Val Loss: -52.4219\n",
      "Epoch 101 — Loss: -53.7104\n"
     ]
    },
    {
     "name": "stderr",
     "output_type": "stream",
     "text": [
      "73it [00:00, 1035.05it/s]\n",
      "355it [00:01, 341.69it/s]\n"
     ]
    },
    {
     "name": "stdout",
     "output_type": "stream",
     "text": [
      "Epoch 102 — Val Loss: -52.6749\n",
      "Epoch 102 — Loss: -54.1152\n"
     ]
    },
    {
     "name": "stderr",
     "output_type": "stream",
     "text": [
      "73it [00:00, 1039.96it/s]\n",
      "355it [00:00, 361.47it/s]\n"
     ]
    },
    {
     "name": "stdout",
     "output_type": "stream",
     "text": [
      "Epoch 103 — Val Loss: -53.0405\n",
      "Epoch 103 — Loss: -54.5370\n"
     ]
    },
    {
     "name": "stderr",
     "output_type": "stream",
     "text": [
      "73it [00:00, 1055.12it/s]\n",
      "355it [00:00, 386.65it/s]\n"
     ]
    },
    {
     "name": "stdout",
     "output_type": "stream",
     "text": [
      "Epoch 104 — Val Loss: -53.6301\n",
      "Epoch 104 — Loss: -54.9660\n"
     ]
    },
    {
     "name": "stderr",
     "output_type": "stream",
     "text": [
      "73it [00:00, 1029.78it/s]\n",
      "355it [00:01, 330.13it/s]\n"
     ]
    },
    {
     "name": "stdout",
     "output_type": "stream",
     "text": [
      "Epoch 105 — Val Loss: -53.7091\n",
      "Epoch 105 — Loss: -55.3397\n"
     ]
    },
    {
     "name": "stderr",
     "output_type": "stream",
     "text": [
      "73it [00:00, 1006.18it/s]\n",
      "355it [00:01, 330.02it/s]\n"
     ]
    },
    {
     "name": "stdout",
     "output_type": "stream",
     "text": [
      "Epoch 106 — Val Loss: -54.0885\n",
      "Epoch 106 — Loss: -55.6924\n"
     ]
    },
    {
     "name": "stderr",
     "output_type": "stream",
     "text": [
      "73it [00:00, 1020.00it/s]\n",
      "355it [00:00, 368.05it/s]\n"
     ]
    },
    {
     "name": "stdout",
     "output_type": "stream",
     "text": [
      "Epoch 107 — Val Loss: -54.2349\n",
      "Epoch 107 — Loss: -55.9880\n"
     ]
    },
    {
     "name": "stderr",
     "output_type": "stream",
     "text": [
      "73it [00:00, 1032.69it/s]\n",
      "355it [00:00, 367.19it/s]\n"
     ]
    },
    {
     "name": "stdout",
     "output_type": "stream",
     "text": [
      "Epoch 108 — Val Loss: -54.8207\n",
      "Epoch 108 — Loss: -56.3166\n"
     ]
    },
    {
     "name": "stderr",
     "output_type": "stream",
     "text": [
      "73it [00:00, 1011.63it/s]\n",
      "355it [00:01, 325.86it/s]\n"
     ]
    },
    {
     "name": "stdout",
     "output_type": "stream",
     "text": [
      "Epoch 109 — Val Loss: -54.6421\n",
      "Epoch 109 — Loss: -56.6040\n"
     ]
    },
    {
     "name": "stderr",
     "output_type": "stream",
     "text": [
      "73it [00:00, 1038.69it/s]\n",
      "355it [00:01, 346.40it/s]\n"
     ]
    },
    {
     "name": "stdout",
     "output_type": "stream",
     "text": [
      "Epoch 110 — Val Loss: -55.0952\n",
      "Epoch 110 — Loss: -56.8816\n"
     ]
    },
    {
     "name": "stderr",
     "output_type": "stream",
     "text": [
      "73it [00:00, 1032.79it/s]\n",
      "355it [00:01, 345.73it/s]\n"
     ]
    },
    {
     "name": "stdout",
     "output_type": "stream",
     "text": [
      "Epoch 111 — Val Loss: -55.5733\n",
      "Epoch 111 — Loss: -57.1629\n"
     ]
    },
    {
     "name": "stderr",
     "output_type": "stream",
     "text": [
      "73it [00:00, 1017.36it/s]\n",
      "355it [00:01, 342.78it/s]\n"
     ]
    },
    {
     "name": "stdout",
     "output_type": "stream",
     "text": [
      "Epoch 112 — Val Loss: -55.9640\n",
      "Epoch 112 — Loss: -57.4222\n"
     ]
    },
    {
     "name": "stderr",
     "output_type": "stream",
     "text": [
      "73it [00:00, 1053.57it/s]\n",
      "355it [00:01, 343.52it/s]\n"
     ]
    },
    {
     "name": "stdout",
     "output_type": "stream",
     "text": [
      "Epoch 113 — Val Loss: -55.7432\n",
      "Epoch 113 — Loss: -57.7907\n"
     ]
    },
    {
     "name": "stderr",
     "output_type": "stream",
     "text": [
      "73it [00:00, 1058.06it/s]\n",
      "355it [00:01, 354.34it/s]\n"
     ]
    },
    {
     "name": "stdout",
     "output_type": "stream",
     "text": [
      "Epoch 114 — Val Loss: -56.4506\n",
      "Epoch 114 — Loss: -58.1362\n"
     ]
    },
    {
     "name": "stderr",
     "output_type": "stream",
     "text": [
      "73it [00:00, 1065.29it/s]\n",
      "355it [00:01, 346.41it/s]\n"
     ]
    },
    {
     "name": "stdout",
     "output_type": "stream",
     "text": [
      "Epoch 115 — Val Loss: -56.5905\n",
      "Epoch 115 — Loss: -58.3559\n"
     ]
    },
    {
     "name": "stderr",
     "output_type": "stream",
     "text": [
      "73it [00:00, 957.37it/s]]\n",
      "355it [00:01, 340.18it/s]\n"
     ]
    },
    {
     "name": "stdout",
     "output_type": "stream",
     "text": [
      "Epoch 116 — Val Loss: -57.0573\n",
      "Epoch 116 — Loss: -58.6441\n"
     ]
    },
    {
     "name": "stderr",
     "output_type": "stream",
     "text": [
      "73it [00:00, 1056.75it/s]\n",
      "355it [00:01, 323.74it/s]\n"
     ]
    },
    {
     "name": "stdout",
     "output_type": "stream",
     "text": [
      "Epoch 117 — Val Loss: -57.3522\n",
      "Epoch 117 — Loss: -58.9910\n"
     ]
    },
    {
     "name": "stderr",
     "output_type": "stream",
     "text": [
      "73it [00:00, 967.62it/s]]\n",
      "355it [00:01, 343.32it/s]\n"
     ]
    },
    {
     "name": "stdout",
     "output_type": "stream",
     "text": [
      "Epoch 118 — Val Loss: -57.6653\n",
      "Epoch 118 — Loss: -59.2687\n"
     ]
    },
    {
     "name": "stderr",
     "output_type": "stream",
     "text": [
      "73it [00:00, 1043.61it/s]\n",
      "355it [00:01, 347.40it/s]\n"
     ]
    },
    {
     "name": "stdout",
     "output_type": "stream",
     "text": [
      "Epoch 119 — Val Loss: -58.0304\n",
      "Epoch 119 — Loss: -59.5278\n"
     ]
    },
    {
     "name": "stderr",
     "output_type": "stream",
     "text": [
      "73it [00:00, 1067.19it/s]\n",
      "355it [00:01, 340.26it/s]\n"
     ]
    },
    {
     "name": "stdout",
     "output_type": "stream",
     "text": [
      "Epoch 120 — Val Loss: -57.9983\n",
      "Epoch 120 — Loss: -59.7194\n"
     ]
    },
    {
     "name": "stderr",
     "output_type": "stream",
     "text": [
      "73it [00:00, 1065.39it/s]\n",
      "355it [00:01, 344.81it/s]\n"
     ]
    },
    {
     "name": "stdout",
     "output_type": "stream",
     "text": [
      "Epoch 121 — Val Loss: -58.2901\n",
      "Epoch 121 — Loss: -59.8910\n"
     ]
    },
    {
     "name": "stderr",
     "output_type": "stream",
     "text": [
      "73it [00:00, 1024.62it/s]\n",
      "355it [00:01, 339.28it/s]\n"
     ]
    },
    {
     "name": "stdout",
     "output_type": "stream",
     "text": [
      "Epoch 122 — Val Loss: -58.5746\n",
      "Epoch 122 — Loss: -60.0963\n"
     ]
    },
    {
     "name": "stderr",
     "output_type": "stream",
     "text": [
      "73it [00:00, 1036.60it/s]\n",
      "355it [00:01, 352.55it/s]\n"
     ]
    },
    {
     "name": "stdout",
     "output_type": "stream",
     "text": [
      "Epoch 123 — Val Loss: -58.5692\n",
      "Epoch 123 — Loss: -60.3160\n"
     ]
    },
    {
     "name": "stderr",
     "output_type": "stream",
     "text": [
      "73it [00:00, 1015.67it/s]\n",
      "355it [00:00, 384.76it/s]\n"
     ]
    },
    {
     "name": "stdout",
     "output_type": "stream",
     "text": [
      "Epoch 124 — Val Loss: -58.8429\n",
      "Epoch 124 — Loss: -60.5324\n"
     ]
    },
    {
     "name": "stderr",
     "output_type": "stream",
     "text": [
      "73it [00:00, 1057.97it/s]\n",
      "355it [00:01, 337.44it/s]\n"
     ]
    },
    {
     "name": "stdout",
     "output_type": "stream",
     "text": [
      "Epoch 125 — Val Loss: -58.8795\n",
      "Epoch 125 — Loss: -60.7248\n"
     ]
    },
    {
     "name": "stderr",
     "output_type": "stream",
     "text": [
      "73it [00:00, 1036.45it/s]\n",
      "355it [00:01, 354.77it/s]\n"
     ]
    },
    {
     "name": "stdout",
     "output_type": "stream",
     "text": [
      "Epoch 126 — Val Loss: -59.2540\n",
      "Epoch 126 — Loss: -60.9426\n"
     ]
    },
    {
     "name": "stderr",
     "output_type": "stream",
     "text": [
      "73it [00:00, 1043.03it/s]\n",
      "355it [00:01, 346.41it/s]\n"
     ]
    },
    {
     "name": "stdout",
     "output_type": "stream",
     "text": [
      "Epoch 127 — Val Loss: -59.4013\n",
      "Epoch 127 — Loss: -61.1244\n"
     ]
    },
    {
     "name": "stderr",
     "output_type": "stream",
     "text": [
      "73it [00:00, 1056.54it/s]\n",
      "355it [00:01, 346.78it/s]\n"
     ]
    },
    {
     "name": "stdout",
     "output_type": "stream",
     "text": [
      "Epoch 128 — Val Loss: -59.5667\n",
      "Epoch 128 — Loss: -61.2167\n"
     ]
    },
    {
     "name": "stderr",
     "output_type": "stream",
     "text": [
      "73it [00:00, 1025.77it/s]\n",
      "355it [00:00, 365.77it/s]\n"
     ]
    },
    {
     "name": "stdout",
     "output_type": "stream",
     "text": [
      "Epoch 129 — Val Loss: -59.4315\n",
      "Epoch 129 — Loss: -61.3367\n"
     ]
    },
    {
     "name": "stderr",
     "output_type": "stream",
     "text": [
      "73it [00:00, 1048.71it/s]\n",
      "355it [00:01, 336.10it/s]\n"
     ]
    },
    {
     "name": "stdout",
     "output_type": "stream",
     "text": [
      "Epoch 130 — Val Loss: -59.7877\n",
      "Epoch 130 — Loss: -61.4048\n"
     ]
    },
    {
     "name": "stderr",
     "output_type": "stream",
     "text": [
      "73it [00:00, 1064.33it/s]\n",
      "355it [00:01, 336.31it/s]\n"
     ]
    },
    {
     "name": "stdout",
     "output_type": "stream",
     "text": [
      "Epoch 131 — Val Loss: -59.7224\n",
      "Epoch 131 — Loss: -61.5119\n"
     ]
    },
    {
     "name": "stderr",
     "output_type": "stream",
     "text": [
      "73it [00:00, 1048.43it/s]\n",
      "355it [00:01, 343.89it/s]\n"
     ]
    },
    {
     "name": "stdout",
     "output_type": "stream",
     "text": [
      "Epoch 132 — Val Loss: -59.9524\n",
      "Epoch 132 — Loss: -61.6199\n"
     ]
    },
    {
     "name": "stderr",
     "output_type": "stream",
     "text": [
      "73it [00:00, 1043.26it/s]\n",
      "355it [00:01, 345.09it/s]\n"
     ]
    },
    {
     "name": "stdout",
     "output_type": "stream",
     "text": [
      "Epoch 133 — Val Loss: -59.9523\n",
      "Epoch 133 — Loss: -61.6955\n"
     ]
    },
    {
     "name": "stderr",
     "output_type": "stream",
     "text": [
      "73it [00:00, 1027.15it/s]\n",
      "355it [00:01, 333.96it/s]\n"
     ]
    },
    {
     "name": "stdout",
     "output_type": "stream",
     "text": [
      "Epoch 134 — Val Loss: -59.8379\n",
      "Epoch 134 — Loss: -61.7858\n"
     ]
    },
    {
     "name": "stderr",
     "output_type": "stream",
     "text": [
      "73it [00:00, 919.01it/s]]\n",
      "355it [00:01, 332.67it/s]\n"
     ]
    },
    {
     "name": "stdout",
     "output_type": "stream",
     "text": [
      "Epoch 135 — Val Loss: -60.2461\n",
      "Epoch 135 — Loss: -61.8769\n"
     ]
    },
    {
     "name": "stderr",
     "output_type": "stream",
     "text": [
      "73it [00:00, 946.57it/s]]\n",
      "355it [00:01, 296.12it/s]\n"
     ]
    },
    {
     "name": "stdout",
     "output_type": "stream",
     "text": [
      "Epoch 136 — Val Loss: -60.1882\n",
      "Epoch 136 — Loss: -61.9762\n"
     ]
    },
    {
     "name": "stderr",
     "output_type": "stream",
     "text": [
      "73it [00:00, 1038.19it/s]\n",
      "355it [00:00, 359.87it/s]\n"
     ]
    },
    {
     "name": "stdout",
     "output_type": "stream",
     "text": [
      "Epoch 137 — Val Loss: -60.3836\n",
      "Epoch 137 — Loss: -62.0985\n"
     ]
    },
    {
     "name": "stderr",
     "output_type": "stream",
     "text": [
      "73it [00:00, 1071.55it/s]\n",
      "355it [00:00, 372.91it/s]\n"
     ]
    },
    {
     "name": "stdout",
     "output_type": "stream",
     "text": [
      "Epoch 138 — Val Loss: -60.4383\n",
      "Epoch 138 — Loss: -62.1922\n"
     ]
    },
    {
     "name": "stderr",
     "output_type": "stream",
     "text": [
      "73it [00:00, 1045.10it/s]\n",
      "355it [00:01, 350.81it/s]\n"
     ]
    },
    {
     "name": "stdout",
     "output_type": "stream",
     "text": [
      "Epoch 139 — Val Loss: -60.1389\n",
      "Epoch 139 — Loss: -62.2314\n"
     ]
    },
    {
     "name": "stderr",
     "output_type": "stream",
     "text": [
      "73it [00:00, 1011.71it/s]\n",
      "355it [00:01, 339.59it/s]\n"
     ]
    },
    {
     "name": "stdout",
     "output_type": "stream",
     "text": [
      "Epoch 140 — Val Loss: -60.4742\n",
      "Epoch 140 — Loss: -62.2633\n"
     ]
    },
    {
     "name": "stderr",
     "output_type": "stream",
     "text": [
      "73it [00:00, 1029.51it/s]\n",
      "355it [00:01, 315.15it/s]\n"
     ]
    },
    {
     "name": "stdout",
     "output_type": "stream",
     "text": [
      "Epoch 141 — Val Loss: -60.6024\n",
      "Epoch 141 — Loss: -62.3583\n"
     ]
    },
    {
     "name": "stderr",
     "output_type": "stream",
     "text": [
      "73it [00:00, 1029.33it/s]\n",
      "355it [00:00, 366.45it/s]\n"
     ]
    },
    {
     "name": "stdout",
     "output_type": "stream",
     "text": [
      "Epoch 142 — Val Loss: -60.6889\n",
      "Epoch 142 — Loss: -62.4888\n"
     ]
    },
    {
     "name": "stderr",
     "output_type": "stream",
     "text": [
      "73it [00:00, 1013.30it/s]\n",
      "355it [00:01, 336.52it/s]\n"
     ]
    },
    {
     "name": "stdout",
     "output_type": "stream",
     "text": [
      "Epoch 143 — Val Loss: -60.7276\n",
      "Epoch 143 — Loss: -62.5067\n"
     ]
    },
    {
     "name": "stderr",
     "output_type": "stream",
     "text": [
      "73it [00:00, 1049.61it/s]\n",
      "355it [00:01, 336.46it/s]\n"
     ]
    },
    {
     "name": "stdout",
     "output_type": "stream",
     "text": [
      "Epoch 144 — Val Loss: -60.5500\n",
      "Epoch 144 — Loss: -62.5387\n"
     ]
    },
    {
     "name": "stderr",
     "output_type": "stream",
     "text": [
      "73it [00:00, 1044.99it/s]\n",
      "355it [00:01, 345.71it/s]\n"
     ]
    },
    {
     "name": "stdout",
     "output_type": "stream",
     "text": [
      "Epoch 145 — Val Loss: -60.9730\n",
      "Epoch 145 — Loss: -62.6097\n"
     ]
    },
    {
     "name": "stderr",
     "output_type": "stream",
     "text": [
      "73it [00:00, 973.30it/s]]\n",
      "355it [00:01, 334.24it/s]\n"
     ]
    },
    {
     "name": "stdout",
     "output_type": "stream",
     "text": [
      "Epoch 146 — Val Loss: -60.7890\n",
      "Epoch 146 — Loss: -62.7074\n"
     ]
    },
    {
     "name": "stderr",
     "output_type": "stream",
     "text": [
      "73it [00:00, 1031.29it/s]\n",
      "355it [00:01, 336.15it/s]\n"
     ]
    },
    {
     "name": "stdout",
     "output_type": "stream",
     "text": [
      "Epoch 147 — Val Loss: -60.8666\n",
      "Epoch 147 — Loss: -62.7616\n"
     ]
    },
    {
     "name": "stderr",
     "output_type": "stream",
     "text": [
      "73it [00:00, 1004.56it/s]\n",
      "355it [00:01, 314.95it/s]\n"
     ]
    },
    {
     "name": "stdout",
     "output_type": "stream",
     "text": [
      "Epoch 148 — Val Loss: -61.0461\n",
      "Epoch 148 — Loss: -62.7518\n"
     ]
    },
    {
     "name": "stderr",
     "output_type": "stream",
     "text": [
      "73it [00:00, 1037.06it/s]\n",
      "355it [00:01, 307.92it/s]\n"
     ]
    },
    {
     "name": "stdout",
     "output_type": "stream",
     "text": [
      "Epoch 149 — Val Loss: -60.9070\n",
      "Epoch 149 — Loss: -62.7289\n"
     ]
    },
    {
     "name": "stderr",
     "output_type": "stream",
     "text": [
      "73it [00:00, 1024.88it/s]\n",
      "355it [00:01, 346.05it/s]\n"
     ]
    },
    {
     "name": "stdout",
     "output_type": "stream",
     "text": [
      "Epoch 150 — Val Loss: -60.7949\n",
      "Epoch 150 — Loss: -62.6871\n"
     ]
    },
    {
     "name": "stderr",
     "output_type": "stream",
     "text": [
      "73it [00:00, 967.58it/s]]\n",
      "355it [00:01, 341.73it/s]\n"
     ]
    },
    {
     "name": "stdout",
     "output_type": "stream",
     "text": [
      "Epoch 151 — Val Loss: -60.9589\n",
      "Epoch 151 — Loss: -62.7323\n"
     ]
    },
    {
     "name": "stderr",
     "output_type": "stream",
     "text": [
      "73it [00:00, 1028.78it/s]\n",
      "355it [00:01, 319.40it/s]\n"
     ]
    },
    {
     "name": "stdout",
     "output_type": "stream",
     "text": [
      "Epoch 152 — Val Loss: -60.9509\n",
      "Epoch 152 — Loss: -62.7399\n"
     ]
    },
    {
     "name": "stderr",
     "output_type": "stream",
     "text": [
      "73it [00:00, 997.77it/s]]\n",
      "355it [00:01, 340.70it/s]\n"
     ]
    },
    {
     "name": "stdout",
     "output_type": "stream",
     "text": [
      "Epoch 153 — Val Loss: -60.9745\n",
      "Epoch 153 — Loss: -62.7540\n"
     ]
    },
    {
     "name": "stderr",
     "output_type": "stream",
     "text": [
      "73it [00:00, 1023.94it/s]\n",
      "355it [00:01, 340.64it/s]\n"
     ]
    },
    {
     "name": "stdout",
     "output_type": "stream",
     "text": [
      "Epoch 154 — Val Loss: -60.7974\n",
      "Epoch 154 — Loss: -62.7547\n"
     ]
    },
    {
     "name": "stderr",
     "output_type": "stream",
     "text": [
      "73it [00:00, 1017.95it/s]\n",
      "355it [00:01, 338.44it/s]\n"
     ]
    },
    {
     "name": "stdout",
     "output_type": "stream",
     "text": [
      "Epoch 155 — Val Loss: -60.5792\n",
      "Epoch 155 — Loss: -62.7978\n"
     ]
    },
    {
     "name": "stderr",
     "output_type": "stream",
     "text": [
      "73it [00:00, 1017.07it/s]\n",
      "355it [00:00, 357.06it/s]\n"
     ]
    },
    {
     "name": "stdout",
     "output_type": "stream",
     "text": [
      "Epoch 156 — Val Loss: -60.9047\n",
      "Epoch 156 — Loss: -62.7822\n"
     ]
    },
    {
     "name": "stderr",
     "output_type": "stream",
     "text": [
      "73it [00:00, 1019.74it/s]\n",
      "355it [00:00, 363.16it/s]\n"
     ]
    },
    {
     "name": "stdout",
     "output_type": "stream",
     "text": [
      "Epoch 157 — Val Loss: -61.0275\n",
      "Epoch 157 — Loss: -62.7383\n"
     ]
    },
    {
     "name": "stderr",
     "output_type": "stream",
     "text": [
      "73it [00:00, 1014.33it/s]\n",
      "355it [00:01, 338.97it/s]\n"
     ]
    },
    {
     "name": "stdout",
     "output_type": "stream",
     "text": [
      "Epoch 158 — Val Loss: -60.7183\n",
      "Epoch 158 — Loss: -62.7036\n"
     ]
    },
    {
     "name": "stderr",
     "output_type": "stream",
     "text": [
      "73it [00:00, 1025.21it/s]\n",
      "355it [00:01, 332.48it/s]\n"
     ]
    },
    {
     "name": "stdout",
     "output_type": "stream",
     "text": [
      "Epoch 159 — Val Loss: -61.0755\n",
      "Epoch 159 — Loss: -62.7317\n"
     ]
    },
    {
     "name": "stderr",
     "output_type": "stream",
     "text": [
      "73it [00:00, 820.18it/s]]\n",
      "355it [00:01, 331.48it/s]\n"
     ]
    },
    {
     "name": "stdout",
     "output_type": "stream",
     "text": [
      "Epoch 160 — Val Loss: -60.7272\n",
      "Epoch 160 — Loss: -62.7332\n"
     ]
    },
    {
     "name": "stderr",
     "output_type": "stream",
     "text": [
      "73it [00:00, 1035.31it/s]\n",
      "355it [00:01, 339.77it/s]\n"
     ]
    },
    {
     "name": "stdout",
     "output_type": "stream",
     "text": [
      "Epoch 161 — Val Loss: -60.7949\n",
      "Epoch 161 — Loss: -62.7562\n"
     ]
    },
    {
     "name": "stderr",
     "output_type": "stream",
     "text": [
      "73it [00:00, 1041.86it/s]\n",
      "355it [00:00, 383.80it/s]\n"
     ]
    },
    {
     "name": "stdout",
     "output_type": "stream",
     "text": [
      "Epoch 162 — Val Loss: -60.7197\n",
      "Epoch 162 — Loss: -62.6154\n"
     ]
    },
    {
     "name": "stderr",
     "output_type": "stream",
     "text": [
      "73it [00:00, 1048.83it/s]\n",
      "355it [00:01, 343.57it/s]\n"
     ]
    },
    {
     "name": "stdout",
     "output_type": "stream",
     "text": [
      "Epoch 163 — Val Loss: -60.7030\n",
      "Epoch 163 — Loss: -62.5567\n"
     ]
    },
    {
     "name": "stderr",
     "output_type": "stream",
     "text": [
      "73it [00:00, 1072.52it/s]\n",
      "355it [00:00, 384.39it/s]\n"
     ]
    },
    {
     "name": "stdout",
     "output_type": "stream",
     "text": [
      "Epoch 164 — Val Loss: -60.4750\n",
      "Epoch 164 — Loss: -62.5051\n"
     ]
    },
    {
     "name": "stderr",
     "output_type": "stream",
     "text": [
      "73it [00:00, 1036.49it/s]\n",
      "355it [00:00, 364.44it/s]\n"
     ]
    },
    {
     "name": "stdout",
     "output_type": "stream",
     "text": [
      "Epoch 165 — Val Loss: -60.4134\n",
      "Epoch 165 — Loss: -62.4188\n"
     ]
    },
    {
     "name": "stderr",
     "output_type": "stream",
     "text": [
      "73it [00:00, 1050.52it/s]\n",
      "355it [00:01, 353.73it/s]\n"
     ]
    },
    {
     "name": "stdout",
     "output_type": "stream",
     "text": [
      "Epoch 166 — Val Loss: -60.4460\n",
      "Epoch 166 — Loss: -62.3519\n"
     ]
    },
    {
     "name": "stderr",
     "output_type": "stream",
     "text": [
      "73it [00:00, 1044.28it/s]\n",
      "355it [00:01, 337.43it/s]\n"
     ]
    },
    {
     "name": "stdout",
     "output_type": "stream",
     "text": [
      "Epoch 167 — Val Loss: -60.4073\n",
      "Epoch 167 — Loss: -62.2627\n"
     ]
    },
    {
     "name": "stderr",
     "output_type": "stream",
     "text": [
      "73it [00:00, 1054.44it/s]\n",
      "355it [00:01, 338.98it/s]\n"
     ]
    },
    {
     "name": "stdout",
     "output_type": "stream",
     "text": [
      "Epoch 168 — Val Loss: -60.2480\n",
      "Epoch 168 — Loss: -62.1673\n"
     ]
    },
    {
     "name": "stderr",
     "output_type": "stream",
     "text": [
      "73it [00:00, 1044.56it/s]\n",
      "355it [00:00, 367.62it/s]\n"
     ]
    },
    {
     "name": "stdout",
     "output_type": "stream",
     "text": [
      "Epoch 169 — Val Loss: -60.0248\n",
      "Epoch 169 — Loss: -62.0614\n"
     ]
    },
    {
     "name": "stderr",
     "output_type": "stream",
     "text": [
      "73it [00:00, 1046.25it/s]\n",
      "355it [00:00, 393.66it/s]\n"
     ]
    },
    {
     "name": "stdout",
     "output_type": "stream",
     "text": [
      "Epoch 170 — Val Loss: -59.8029\n",
      "Epoch 170 — Loss: -61.9612\n"
     ]
    },
    {
     "name": "stderr",
     "output_type": "stream",
     "text": [
      "73it [00:00, 1055.74it/s]\n",
      "355it [00:00, 383.09it/s]\n"
     ]
    },
    {
     "name": "stdout",
     "output_type": "stream",
     "text": [
      "Epoch 171 — Val Loss: -60.0512\n",
      "Epoch 171 — Loss: -61.9524\n"
     ]
    },
    {
     "name": "stderr",
     "output_type": "stream",
     "text": [
      "73it [00:00, 1013.87it/s]\n",
      "355it [00:01, 343.02it/s]\n"
     ]
    },
    {
     "name": "stdout",
     "output_type": "stream",
     "text": [
      "Epoch 172 — Val Loss: -60.0332\n",
      "Epoch 172 — Loss: -61.9400\n"
     ]
    },
    {
     "name": "stderr",
     "output_type": "stream",
     "text": [
      "73it [00:00, 1006.61it/s]\n",
      "355it [00:01, 347.80it/s]\n"
     ]
    },
    {
     "name": "stdout",
     "output_type": "stream",
     "text": [
      "Epoch 173 — Val Loss: -60.1842\n",
      "Epoch 173 — Loss: -61.9036\n"
     ]
    },
    {
     "name": "stderr",
     "output_type": "stream",
     "text": [
      "73it [00:00, 1007.86it/s]\n",
      "355it [00:01, 320.66it/s]\n"
     ]
    },
    {
     "name": "stdout",
     "output_type": "stream",
     "text": [
      "Epoch 174 — Val Loss: -60.0168\n",
      "Epoch 174 — Loss: -61.9097\n"
     ]
    },
    {
     "name": "stderr",
     "output_type": "stream",
     "text": [
      "73it [00:00, 1041.80it/s]\n",
      "355it [00:01, 342.35it/s]\n"
     ]
    },
    {
     "name": "stdout",
     "output_type": "stream",
     "text": [
      "Epoch 175 — Val Loss: -60.0006\n",
      "Epoch 175 — Loss: -61.8594\n"
     ]
    },
    {
     "name": "stderr",
     "output_type": "stream",
     "text": [
      "73it [00:00, 994.66it/s]]\n",
      "355it [00:01, 347.86it/s]\n"
     ]
    },
    {
     "name": "stdout",
     "output_type": "stream",
     "text": [
      "Epoch 176 — Val Loss: -59.8064\n",
      "Epoch 176 — Loss: -61.8627\n"
     ]
    },
    {
     "name": "stderr",
     "output_type": "stream",
     "text": [
      "73it [00:00, 1045.96it/s]\n",
      "355it [00:01, 342.66it/s]\n"
     ]
    },
    {
     "name": "stdout",
     "output_type": "stream",
     "text": [
      "Epoch 177 — Val Loss: -59.9141\n",
      "Epoch 177 — Loss: -61.8274\n"
     ]
    },
    {
     "name": "stderr",
     "output_type": "stream",
     "text": [
      "73it [00:00, 1040.72it/s]\n",
      "355it [00:00, 356.22it/s]\n"
     ]
    },
    {
     "name": "stdout",
     "output_type": "stream",
     "text": [
      "Epoch 178 — Val Loss: -59.8641\n",
      "Epoch 178 — Loss: -61.8031\n"
     ]
    },
    {
     "name": "stderr",
     "output_type": "stream",
     "text": [
      "73it [00:00, 1035.02it/s]\n",
      "355it [00:01, 338.01it/s]\n"
     ]
    },
    {
     "name": "stdout",
     "output_type": "stream",
     "text": [
      "Epoch 179 — Val Loss: -59.8278\n",
      "Epoch 179 — Loss: -61.7065\n"
     ]
    },
    {
     "name": "stderr",
     "output_type": "stream",
     "text": [
      "73it [00:00, 1014.61it/s]\n",
      "355it [00:01, 332.56it/s]\n"
     ]
    },
    {
     "name": "stdout",
     "output_type": "stream",
     "text": [
      "Epoch 180 — Val Loss: -59.9177\n",
      "Epoch 180 — Loss: -61.6614\n"
     ]
    },
    {
     "name": "stderr",
     "output_type": "stream",
     "text": [
      "73it [00:00, 1023.85it/s]\n",
      "355it [00:01, 339.06it/s]\n"
     ]
    },
    {
     "name": "stdout",
     "output_type": "stream",
     "text": [
      "Epoch 181 — Val Loss: -59.6339\n",
      "Epoch 181 — Loss: -61.5309\n"
     ]
    },
    {
     "name": "stderr",
     "output_type": "stream",
     "text": [
      "73it [00:00, 999.03it/s]]\n",
      "355it [00:01, 340.72it/s]\n"
     ]
    },
    {
     "name": "stdout",
     "output_type": "stream",
     "text": [
      "Epoch 182 — Val Loss: -59.6092\n",
      "Epoch 182 — Loss: -61.5003\n"
     ]
    },
    {
     "name": "stderr",
     "output_type": "stream",
     "text": [
      "73it [00:00, 997.85it/s]]\n",
      "355it [00:01, 330.43it/s]\n"
     ]
    },
    {
     "name": "stdout",
     "output_type": "stream",
     "text": [
      "Epoch 183 — Val Loss: -59.5304\n",
      "Epoch 183 — Loss: -61.5218\n"
     ]
    },
    {
     "name": "stderr",
     "output_type": "stream",
     "text": [
      "73it [00:00, 999.93it/s]]\n",
      "355it [00:00, 364.98it/s]\n"
     ]
    },
    {
     "name": "stdout",
     "output_type": "stream",
     "text": [
      "Epoch 184 — Val Loss: -59.4690\n",
      "Epoch 184 — Loss: -61.5325\n"
     ]
    },
    {
     "name": "stderr",
     "output_type": "stream",
     "text": [
      "73it [00:00, 1048.37it/s]\n",
      "355it [00:00, 376.60it/s]\n"
     ]
    },
    {
     "name": "stdout",
     "output_type": "stream",
     "text": [
      "Epoch 185 — Val Loss: -59.5977\n",
      "Epoch 185 — Loss: -61.5090\n"
     ]
    },
    {
     "name": "stderr",
     "output_type": "stream",
     "text": [
      "73it [00:00, 1016.03it/s]\n",
      "355it [00:01, 330.65it/s]\n"
     ]
    },
    {
     "name": "stdout",
     "output_type": "stream",
     "text": [
      "Epoch 186 — Val Loss: -59.0610\n",
      "Epoch 186 — Loss: -61.3924\n"
     ]
    },
    {
     "name": "stderr",
     "output_type": "stream",
     "text": [
      "73it [00:00, 992.34it/s]]\n",
      "355it [00:01, 317.95it/s]\n"
     ]
    },
    {
     "name": "stdout",
     "output_type": "stream",
     "text": [
      "Epoch 187 — Val Loss: -59.2953\n",
      "Epoch 187 — Loss: -61.3059\n"
     ]
    },
    {
     "name": "stderr",
     "output_type": "stream",
     "text": [
      "73it [00:00, 1040.48it/s]\n",
      "355it [00:01, 317.11it/s]\n"
     ]
    },
    {
     "name": "stdout",
     "output_type": "stream",
     "text": [
      "Epoch 188 — Val Loss: -59.2448\n",
      "Epoch 188 — Loss: -61.2230\n"
     ]
    },
    {
     "name": "stderr",
     "output_type": "stream",
     "text": [
      "73it [00:00, 1036.56it/s]\n",
      "355it [00:01, 324.36it/s]\n"
     ]
    },
    {
     "name": "stdout",
     "output_type": "stream",
     "text": [
      "Epoch 189 — Val Loss: -59.2392\n",
      "Epoch 189 — Loss: -61.1690\n"
     ]
    },
    {
     "name": "stderr",
     "output_type": "stream",
     "text": [
      "73it [00:00, 1041.28it/s]\n",
      "355it [00:01, 338.16it/s]\n"
     ]
    },
    {
     "name": "stdout",
     "output_type": "stream",
     "text": [
      "Epoch 190 — Val Loss: -59.1245\n",
      "Epoch 190 — Loss: -61.0489\n"
     ]
    },
    {
     "name": "stderr",
     "output_type": "stream",
     "text": [
      "73it [00:00, 1059.54it/s]\n",
      "355it [00:01, 337.88it/s]\n"
     ]
    },
    {
     "name": "stdout",
     "output_type": "stream",
     "text": [
      "Epoch 191 — Val Loss: -59.0067\n",
      "Epoch 191 — Loss: -60.9505\n"
     ]
    },
    {
     "name": "stderr",
     "output_type": "stream",
     "text": [
      "73it [00:00, 1053.88it/s]\n",
      "355it [00:00, 392.04it/s]\n"
     ]
    },
    {
     "name": "stdout",
     "output_type": "stream",
     "text": [
      "Epoch 192 — Val Loss: -59.0733\n",
      "Epoch 192 — Loss: -60.8829\n"
     ]
    },
    {
     "name": "stderr",
     "output_type": "stream",
     "text": [
      "73it [00:00, 1057.30it/s]\n",
      "355it [00:01, 354.38it/s]\n"
     ]
    },
    {
     "name": "stdout",
     "output_type": "stream",
     "text": [
      "Epoch 193 — Val Loss: -58.9999\n",
      "Epoch 193 — Loss: -60.9792\n"
     ]
    },
    {
     "name": "stderr",
     "output_type": "stream",
     "text": [
      "73it [00:00, 1050.69it/s]\n",
      "355it [00:01, 351.92it/s]\n"
     ]
    },
    {
     "name": "stdout",
     "output_type": "stream",
     "text": [
      "Epoch 194 — Val Loss: -59.0533\n",
      "Epoch 194 — Loss: -60.9723\n"
     ]
    },
    {
     "name": "stderr",
     "output_type": "stream",
     "text": [
      "73it [00:00, 967.14it/s]]\n",
      "355it [00:01, 322.98it/s]\n"
     ]
    },
    {
     "name": "stdout",
     "output_type": "stream",
     "text": [
      "Epoch 195 — Val Loss: -58.8955\n",
      "Epoch 195 — Loss: -60.9265\n"
     ]
    },
    {
     "name": "stderr",
     "output_type": "stream",
     "text": [
      "73it [00:00, 1055.45it/s]\n",
      "355it [00:01, 336.40it/s]\n"
     ]
    },
    {
     "name": "stdout",
     "output_type": "stream",
     "text": [
      "Epoch 196 — Val Loss: -58.9234\n",
      "Epoch 196 — Loss: -60.8503\n"
     ]
    },
    {
     "name": "stderr",
     "output_type": "stream",
     "text": [
      "73it [00:00, 1004.03it/s]\n",
      "355it [00:00, 379.96it/s]\n"
     ]
    },
    {
     "name": "stdout",
     "output_type": "stream",
     "text": [
      "Epoch 197 — Val Loss: -58.9071\n",
      "Epoch 197 — Loss: -60.7371\n"
     ]
    },
    {
     "name": "stderr",
     "output_type": "stream",
     "text": [
      "73it [00:00, 1062.68it/s]\n",
      "355it [00:01, 347.04it/s]\n"
     ]
    },
    {
     "name": "stdout",
     "output_type": "stream",
     "text": [
      "Epoch 198 — Val Loss: -58.9042\n",
      "Epoch 198 — Loss: -60.7165\n"
     ]
    },
    {
     "name": "stderr",
     "output_type": "stream",
     "text": [
      "73it [00:00, 1067.61it/s]\n",
      "355it [00:00, 392.86it/s]\n"
     ]
    },
    {
     "name": "stdout",
     "output_type": "stream",
     "text": [
      "Epoch 199 — Val Loss: -58.8849\n",
      "Epoch 199 — Loss: -60.6740\n"
     ]
    },
    {
     "name": "stderr",
     "output_type": "stream",
     "text": [
      "73it [00:00, 1087.57it/s]\n",
      "355it [00:01, 354.02it/s]"
     ]
    },
    {
     "name": "stdout",
     "output_type": "stream",
     "text": [
      "Epoch 200 — Val Loss: -58.7895\n",
      "Epoch 200 — Loss: -60.6269\n"
     ]
    },
    {
     "name": "stderr",
     "output_type": "stream",
     "text": [
      "\n"
     ]
    }
   ],
   "source": [
    "\n",
    "from Agents.BCAgent import BCAgent\n",
    "from Agents.IQLAgent import IQLAgent\n",
    "device = torch.device(\"cuda\" if torch.cuda.is_available() else \"cpu\")\n",
    "print(f\"Using device: {device}\")\n",
    "obs_dim = train_dataset[0][0].shape[0]\n",
    "act_dim = train_dataset[0][1].shape[0]\n",
    "# agent = BCAgent(obs_dim, act_dim, device)\n",
    "agent = IQLAgent(obs_dim, act_dim, device, param_update_freq=50)\n",
    "\n",
    "# set the seed\n",
    "torch.manual_seed(42)\n",
    "if torch.cuda.is_available():\n",
    "    torch.cuda.manual_seed(42)\n",
    "\n",
    "losses = []\n",
    "val_losses = []\n",
    "batch_cnt = 0\n",
    "for epoch in range(200):\n",
    "    total_loss = 0.0\n",
    "    for i, (states, actions, next_states) in tqdm(enumerate(train_loader)):\n",
    "        states = states.to(device)       # [B, obs_dim]\n",
    "        actions = actions.to(device)     # [B] integers in [0…act_dim-1]\n",
    "        next_states = next_states.to(device)\n",
    "        # for i in range(1000):\n",
    "        loss = agent.train(states, actions, next_states)\n",
    "        # vl, ql, pl = loss\n",
    "        # print(loss)\n",
    "        losses.append(loss)\n",
    "        # break\n",
    "        # total_loss += pl * states.shape[0]\n",
    "        total_loss += loss * states.shape[0]\n",
    "        batch_cnt += 1\n",
    "\n",
    "        # if batch_cnt % 355 == 0:\n",
    "        #     val_loss = 0.0  \n",
    "        #     for i, (states, actions, next_states) in tqdm(enumerate(val_loader)):\n",
    "        #         states = states.to(device)       # [B, obs_dim]\n",
    "        #         actions = actions.to(device)     # [B] integers in [0…act_dim-1]\n",
    "        #         next_states = next_states.to(device)\n",
    "\n",
    "        #         val_loss += agent.validate(states, actions)\n",
    "        #     avg_val_loss = val_loss / len(val_dataset)\n",
    "        #     val_losses.append(avg_val_loss)\n",
    "        #     print(f\"Epoch {epoch+1} — Val Loss: {avg_val_loss:.4f}\")\n",
    "\n",
    "    \n",
    "\n",
    "    avg_loss = total_loss / len(train_dataset)\n",
    "    # losses.append(avg_loss)\n",
    "    print(f\"Epoch {epoch+1} — Loss: {avg_loss:.4f}\")\n",
    "\n",
    "\n"
   ]
  },
  {
   "cell_type": "code",
   "execution_count": 30,
   "metadata": {},
   "outputs": [],
   "source": [
    "import numpy as np\n",
    "import matplotlib.pyplot as plt\n",
    "\n",
    "def plot_smoothed(data, window=10, iqr_multiplier=1.5, label=None, xlabel=None, ylabel=None, title=None):\n",
    "    \"\"\"\n",
    "    Plots smoothed data after removing outliers.\n",
    "    \n",
    "    Args:\n",
    "        data (list or np.ndarray): The 1D data sequence to plot.\n",
    "        window (int): Smoothing window size for moving average.\n",
    "        iqr_multiplier (float): Outlier threshold multiplier (default 1.5).\n",
    "        label (str): Label for the plot line.\n",
    "        color (str): Line color.\n",
    "    \"\"\"\n",
    "    data = np.asarray(data)\n",
    "\n",
    "    # --- Step 1: Remove outliers ---\n",
    "    q1 = np.percentile(data, 25)\n",
    "    q3 = np.percentile(data, 75)\n",
    "    iqr = q3 - q1\n",
    "    lower = q1 - iqr_multiplier * iqr\n",
    "    upper = q3 + iqr_multiplier * iqr\n",
    "    mask = (data >= lower) & (data <= upper)\n",
    "    filtered_data = data[mask]\n",
    "\n",
    "    # --- Step 2: Smooth data using moving average ---\n",
    "    def moving_average(x, w):\n",
    "        return np.convolve(x, np.ones(w)/w, mode='valid')\n",
    "\n",
    "    smoothed = moving_average(filtered_data, window)\n",
    "\n",
    "    # --- Step 3: Plot ---\n",
    "    x_vals = np.arange(len(smoothed))\n",
    "    plt.figure()\n",
    "    plt.plot(x_vals, smoothed, label=label)\n",
    "    plt.xlabel(xlabel)\n",
    "    plt.ylabel(ylabel)\n",
    "    plt.title(title)\n",
    "    if label:\n",
    "        plt.legend()\n"
   ]
  },
  {
   "cell_type": "code",
   "execution_count": 40,
   "metadata": {},
   "outputs": [
    {
     "data": {
      "text/plain": [
       "<matplotlib.legend.Legend at 0x79c340686b60>"
      ]
     },
     "execution_count": 40,
     "metadata": {},
     "output_type": "execute_result"
    },
    {
     "data": {
      "image/png": "[encoded data removed]",
      "text/plain": [
       "<Figure size 640x480 with 1 Axes>"
      ]
     },
     "metadata": {},
     "output_type": "display_data"
    }
   ],
   "source": [
    "# plot_smoothed([losses[i][0] for i in range(len(losses))], window=1000, label=\"VL\", xlabel=\"Batch\", ylabel=\"Loss\", title=\"IQL Training\")\n",
    "# plot_smoothed([losses[i][1] for i in range(len(losses))], window=1000, label=\"QL\", xlabel=\"Batch\", ylabel=\"Loss\", title=\"IQL Training\")\n",
    "# plot_smoothed([losses[i][2] for i in range(len(losses))], window=500, label=\"PL\", xlabel=\"Batch\", ylabel=\"Loss\", title=\"IQL Training\")\n",
    "plot_smoothed([losses[i] for i in range(len(losses))], window=500, label=\"Train Loss\", xlabel=\"Batch\", ylabel=\"Loss\", title=\"BC Training\")\n",
    "plt.plot([i*355 for i in range(len(val_losses))], val_losses, label=\"Val Loss\")\n",
    "plt.legend()"
   ]
  },
  {
   "cell_type": "code",
   "execution_count": null,
   "metadata": {},
   "outputs": [],
   "source": []
  },
  {
   "cell_type": "code",
   "execution_count": 42,
   "metadata": {},
   "outputs": [],
   "source": [
    "# Save the trained model\n",
    "torch.save(agent.policy_net.state_dict(), \"checkpoint_final/bc_5.pth\")\n",
    "# torch.save(agent.policy_net.state_dict(), \"fox_5.pth\")\n",
    "# print(\"Model saved to trained_policy.pth\")\n"
   ]
  }
 ],
 "metadata": {
  "kernelspec": {
   "display_name": "melee",
   "language": "python",
   "name": "python3"
  },
  "language_info": {
   "codemirror_mode": {
    "name": "ipython",
    "version": 3
   },
   "file_extension": ".py",
   "mimetype": "text/x-python",
   "name": "python",
   "nbconvert_exporter": "python",
   "pygments_lexer": "ipython3",
   "version": "3.10.17"
  }
 },
 "nbformat": 4,
 "nbformat_minor": 2
}
