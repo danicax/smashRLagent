{
 "cells": [
  {
   "cell_type": "code",
   "execution_count": 1,
   "metadata": {},
   "outputs": [],
   "source": [
    "from melee_dataset import MeleeDataset\n",
    "import torch.nn as nn\n",
    "import torch.optim as optim\n",
    "from torch.utils.data import DataLoader\n",
    "from tqdm import tqdm\n",
    "import torch\n",
    "from torch.distributions import Categorical\n",
    "from torch.distributions import Bernoulli,Normal\n",
    "import matplotlib.pyplot as plt\n",
    "from PolicyNet import PolicyNet\n",
    "import torch.nn.functional as F\n",
    "from Agents.BCAgent import BCAgent\n",
    "\n",
    "%load_ext autoreload\n",
    "%autoreload 2"
   ]
  },
  {
   "cell_type": "code",
   "execution_count": 2,
   "metadata": {},
   "outputs": [],
   "source": [
    "# train_dataset = MeleeDataset(data_path=\"data/train_mini_515\")\n",
    "# train_dataset = MeleeDataset(data_path=\"data/train_mini_40\")\n",
    "train_dataset = MeleeDataset(data_path=\"data/train_mini_5\")\n",
    "# train_dataset = MeleeDataset(data_path=\"data/train_mini_10_with_hitstun\")\n",
    "train_loader = DataLoader(train_dataset, batch_size=128, shuffle=True)\n",
    "\n",
    "val_dataset = MeleeDataset(data_path=\"data/val_mini_1\")\n",
    "# val_dataset = MeleeDataset(data_path=\"data/val_mini_10\")\n",
    "# val_dataset = MeleeDataset(data_path=\"data/val_mini_2_with_hitstun\")\n",
    "val_loader = DataLoader(val_dataset, batch_size=128, shuffle=True)\n"
   ]
  },
  {
   "cell_type": "code",
   "execution_count": 3,
   "metadata": {},
   "outputs": [
    {
     "name": "stdout",
     "output_type": "stream",
     "text": [
      "obs_dim: torch.Size([70])\n",
      "act_dim: torch.Size([17])\n"
     ]
    }
   ],
   "source": [
    "print(f\"obs_dim: {train_dataset[0][0].shape}\")\n",
    "print(f\"act_dim: {train_dataset[0][1].shape}\")"
   ]
  },
  {
   "cell_type": "code",
   "execution_count": 14,
   "metadata": {},
   "outputs": [
    {
     "name": "stdout",
     "output_type": "stream",
     "text": [
      "Using device: cuda\n"
     ]
    },
    {
     "name": "stderr",
     "output_type": "stream",
     "text": [
      "73it [00:00, 941.42it/s]\n",
      "133it [00:00, 266.32it/s]"
     ]
    },
    {
     "name": "stdout",
     "output_type": "stream",
     "text": [
      "Epoch 1 — Val Loss: -9.6461\n"
     ]
    },
    {
     "name": "stderr",
     "output_type": "stream",
     "text": [
      "73it [00:00, 871.96it/s]]\n",
      "252it [00:00, 245.62it/s]"
     ]
    },
    {
     "name": "stdout",
     "output_type": "stream",
     "text": [
      "Epoch 1 — Val Loss: -12.6800\n"
     ]
    },
    {
     "name": "stderr",
     "output_type": "stream",
     "text": [
      "73it [00:00, 972.97it/s]]\n",
      "355it [00:01, 257.18it/s]\n"
     ]
    },
    {
     "name": "stdout",
     "output_type": "stream",
     "text": [
      "Epoch 1 — Val Loss: -15.0066\n",
      "Epoch 1 — Loss: -11.5284\n"
     ]
    },
    {
     "name": "stderr",
     "output_type": "stream",
     "text": [
      "73it [00:00, 944.28it/s]\n",
      "91it [00:00, 241.91it/s]"
     ]
    },
    {
     "name": "stdout",
     "output_type": "stream",
     "text": [
      "Epoch 2 — Val Loss: -16.6722\n"
     ]
    },
    {
     "name": "stderr",
     "output_type": "stream",
     "text": [
      "73it [00:00, 943.42it/s]]\n",
      "183it [00:00, 250.55it/s]"
     ]
    },
    {
     "name": "stdout",
     "output_type": "stream",
     "text": [
      "Epoch 2 — Val Loss: -17.2405\n"
     ]
    },
    {
     "name": "stderr",
     "output_type": "stream",
     "text": [
      "73it [00:00, 919.76it/s]]\n",
      "276it [00:01, 246.24it/s]"
     ]
    },
    {
     "name": "stdout",
     "output_type": "stream",
     "text": [
      "Epoch 2 — Val Loss: -18.5236\n"
     ]
    },
    {
     "name": "stderr",
     "output_type": "stream",
     "text": [
      "73it [00:00, 962.11it/s]]\n",
      "355it [00:01, 242.37it/s]\n"
     ]
    },
    {
     "name": "stdout",
     "output_type": "stream",
     "text": [
      "Epoch 2 — Val Loss: -18.6365\n",
      "Epoch 2 — Loss: -18.3036\n"
     ]
    },
    {
     "name": "stderr",
     "output_type": "stream",
     "text": [
      "73it [00:00, 963.85it/s]\n",
      "126it [00:00, 261.11it/s]"
     ]
    },
    {
     "name": "stdout",
     "output_type": "stream",
     "text": [
      "Epoch 3 — Val Loss: -18.8049\n"
     ]
    },
    {
     "name": "stderr",
     "output_type": "stream",
     "text": [
      "73it [00:00, 912.43it/s]]\n",
      "222it [00:00, 254.80it/s]"
     ]
    },
    {
     "name": "stdout",
     "output_type": "stream",
     "text": [
      "Epoch 3 — Val Loss: -18.6722\n"
     ]
    },
    {
     "name": "stderr",
     "output_type": "stream",
     "text": [
      "73it [00:00, 961.60it/s]]\n",
      "355it [00:01, 261.94it/s]\n"
     ]
    },
    {
     "name": "stdout",
     "output_type": "stream",
     "text": [
      "Epoch 3 — Val Loss: -19.4255\n",
      "Epoch 3 — Loss: -20.3600\n"
     ]
    },
    {
     "name": "stderr",
     "output_type": "stream",
     "text": [
      "73it [00:00, 944.85it/s]\n",
      "108it [00:00, 301.62it/s]"
     ]
    },
    {
     "name": "stdout",
     "output_type": "stream",
     "text": [
      "Epoch 4 — Val Loss: -19.2211\n"
     ]
    },
    {
     "name": "stderr",
     "output_type": "stream",
     "text": [
      "73it [00:00, 971.59it/s]\n",
      "181it [00:00, 298.39it/s]"
     ]
    },
    {
     "name": "stdout",
     "output_type": "stream",
     "text": [
      "Epoch 4 — Val Loss: -19.0914\n"
     ]
    },
    {
     "name": "stderr",
     "output_type": "stream",
     "text": [
      "73it [00:00, 987.10it/s]]\n",
      "297it [00:00, 311.78it/s]"
     ]
    },
    {
     "name": "stdout",
     "output_type": "stream",
     "text": [
      "Epoch 4 — Val Loss: -19.3179\n"
     ]
    },
    {
     "name": "stderr",
     "output_type": "stream",
     "text": [
      "73it [00:00, 969.32it/s]]\n",
      "355it [00:01, 286.29it/s]\n"
     ]
    },
    {
     "name": "stdout",
     "output_type": "stream",
     "text": [
      "Epoch 4 — Val Loss: -19.2506\n",
      "Epoch 4 — Loss: -21.2508\n"
     ]
    },
    {
     "name": "stderr",
     "output_type": "stream",
     "text": [
      "73it [00:00, 972.75it/s]\n",
      "132it [00:00, 270.63it/s]"
     ]
    },
    {
     "name": "stdout",
     "output_type": "stream",
     "text": [
      "Epoch 5 — Val Loss: -19.0136\n"
     ]
    },
    {
     "name": "stderr",
     "output_type": "stream",
     "text": [
      "73it [00:00, 995.36it/s]]\n",
      "229it [00:00, 266.75it/s]"
     ]
    },
    {
     "name": "stdout",
     "output_type": "stream",
     "text": [
      "Epoch 5 — Val Loss: -19.3623\n"
     ]
    },
    {
     "name": "stderr",
     "output_type": "stream",
     "text": [
      "73it [00:00, 964.05it/s]]\n",
      "355it [00:01, 274.21it/s]"
     ]
    },
    {
     "name": "stdout",
     "output_type": "stream",
     "text": [
      "Epoch 5 — Val Loss: -19.5021\n",
      "Epoch 5 — Loss: -21.8659\n"
     ]
    },
    {
     "name": "stderr",
     "output_type": "stream",
     "text": [
      "\n"
     ]
    }
   ],
   "source": [
    "\n",
    "from Agents.BCAgent import BCAgent\n",
    "from Agents.IQLAgent import IQLAgent\n",
    "device = torch.device(\"cuda\" if torch.cuda.is_available() else \"cpu\")\n",
    "print(f\"Using device: {device}\")\n",
    "obs_dim = train_dataset[0][0].shape[0]\n",
    "act_dim = train_dataset[0][1].shape[0]\n",
    "agent = BCAgent(obs_dim, act_dim, device)\n",
    "# agent = IQLAgent(obs_dim, act_dim, device, param_update_freq=50)\n",
    "\n",
    "# set the seed\n",
    "torch.manual_seed(42)\n",
    "if torch.cuda.is_available():\n",
    "    torch.cuda.manual_seed(42)\n",
    "\n",
    "losses = []\n",
    "val_losses = []\n",
    "batch_cnt = 0\n",
    "for epoch in range(5):\n",
    "    total_loss = 0.0\n",
    "    for i, (states, actions, next_states) in tqdm(enumerate(train_loader)):\n",
    "        states = states.to(device)       # [B, obs_dim]\n",
    "        actions = actions.to(device)     # [B] integers in [0…act_dim-1]\n",
    "        next_states = next_states.to(device)\n",
    "        # for i in range(1000):\n",
    "        loss = agent.train(states, actions, next_states)\n",
    "        # vl, ql, pl = loss\n",
    "        # print(loss)\n",
    "        losses.append(loss)\n",
    "        # break\n",
    "        total_loss += loss * states.shape[0]\n",
    "        batch_cnt += 1\n",
    "\n",
    "        if batch_cnt % 100 == 0:\n",
    "            val_loss = 0.0  \n",
    "            for i, (states, actions, next_states) in tqdm(enumerate(val_loader)):\n",
    "                states = states.to(device)       # [B, obs_dim]\n",
    "                actions = actions.to(device)     # [B] integers in [0…act_dim-1]\n",
    "                next_states = next_states.to(device)\n",
    "\n",
    "                val_loss += agent.validate(states, actions)\n",
    "            avg_val_loss = val_loss / len(val_dataset)\n",
    "            val_losses.append(avg_val_loss)\n",
    "            print(f\"Epoch {epoch+1} — Val Loss: {avg_val_loss:.4f}\")\n",
    "    # break\n",
    "\n",
    "    avg_loss = total_loss / len(train_dataset)\n",
    "    # losses.append(avg_loss)\n",
    "    print(f\"Epoch {epoch+1} — Loss: {avg_loss:.4f}\")\n",
    "\n",
    "\n"
   ]
  },
  {
   "cell_type": "code",
   "execution_count": 19,
   "metadata": {},
   "outputs": [
    {
     "data": {
      "image/png": "[encoded data removed]",
      "text/plain": [
       "<Figure size 640x480 with 1 Axes>"
      ]
     },
     "metadata": {},
     "output_type": "display_data"
    }
   ],
   "source": [
    "import matplotlib.pyplot as plt\n",
    "import numpy as np\n",
    "plt.figure()\n",
    "plt.title(\"BC Training\")\n",
    "plt.xlabel(\"Batch\")\n",
    "plt.ylabel(\"Loss\")\n",
    "# plt.xticks(np.arange(0, 6, 1))\n",
    "# plt.yscale(\"log\")\n",
    "# plt.plot([losses[i][0] for i in range(len(losses))], label=\"vl\")\n",
    "# plt.plot([losses[i][1] for i in range(len(losses))], label=\"ql\")\n",
    "# plt.plot([losses[i][2] for i in range(len(losses))], label=\"pl\")\n",
    "plt.plot(losses, label=\"train loss\")\n",
    "plt.plot([100 * i for i in range(1, len(val_losses)+1)], val_losses, label=\"val loss\")\n",
    "plt.legend()\n",
    "plt.show()\n",
    "\n"
   ]
  },
  {
   "cell_type": "code",
   "execution_count": 6,
   "metadata": {},
   "outputs": [
    {
     "name": "stdout",
     "output_type": "stream",
     "text": [
      "Model saved to trained_policy.pth\n"
     ]
    }
   ],
   "source": [
    "# Save the trained model\n",
    "# torch.save(agent.policy.state_dict(), \"iql_5.pth\")\n",
    "torch.save(agent.policy_net.state_dict(), \"iql_5.pth\")\n",
    "print(\"Model saved to trained_policy.pth\")\n"
   ]
  }
 ],
 "metadata": {
  "kernelspec": {
   "display_name": "melee",
   "language": "python",
   "name": "python3"
  },
  "language_info": {
   "codemirror_mode": {
    "name": "ipython",
    "version": 3
   },
   "file_extension": ".py",
   "mimetype": "text/x-python",
   "name": "python",
   "nbconvert_exporter": "python",
   "pygments_lexer": "ipython3",
   "version": "3.10.17"
  }
 },
 "nbformat": 4,
 "nbformat_minor": 2
}
