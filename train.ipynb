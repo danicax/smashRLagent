{
 "cells": [
  {
   "cell_type": "code",
   "execution_count": 1,
   "metadata": {},
   "outputs": [],
   "source": [
    "from melee_dataset import MeleeDataset\n",
    "import torch.nn as nn\n",
    "import torch.optim as optim\n",
    "from torch.utils.data import DataLoader\n",
    "from tqdm import tqdm\n",
    "import torch\n",
    "from torch.distributions import Categorical\n",
    "from torch.distributions import Bernoulli,Normal\n",
    "import matplotlib.pyplot as plt\n",
    "from PolicyNet import PolicyNet\n",
    "import torch.nn.functional as F\n",
    "from Agents.BCAgent import BCAgent\n",
    "\n",
    "%load_ext autoreload\n",
    "%autoreload 2"
   ]
  },
  {
   "cell_type": "code",
   "execution_count": 2,
   "metadata": {},
   "outputs": [],
   "source": [
    "# train_dataset = MeleeDataset(data_path=\"data/train_mini_515\")\n",
    "train_dataset = MeleeDataset(data_path=\"data/train_mini_40\")\n",
    "train_loader = DataLoader(train_dataset, batch_size=128, shuffle=True)\n",
    "\n",
    "val_dataset = MeleeDataset(data_path=\"data/val_mini_10\")\n",
    "val_loader = DataLoader(val_dataset, batch_size=128, shuffle=True)\n"
   ]
  },
  {
   "cell_type": "code",
   "execution_count": 3,
   "metadata": {},
   "outputs": [
    {
     "name": "stdout",
     "output_type": "stream",
     "text": [
      "obs_dim: torch.Size([70])\n",
      "act_dim: torch.Size([17])\n"
     ]
    }
   ],
   "source": [
    "print(f\"obs_dim: {train_dataset[0][0].shape}\")\n",
    "print(f\"act_dim: {train_dataset[0][1].shape}\")"
   ]
  },
  {
   "cell_type": "code",
   "execution_count": 4,
   "metadata": {},
   "outputs": [
    {
     "name": "stdout",
     "output_type": "stream",
     "text": [
      "Using device: cuda\n"
     ]
    },
    {
     "name": "stderr",
     "output_type": "stream",
     "text": [
      "3303it [01:07, 49.22it/s] \n"
     ]
    },
    {
     "name": "stdout",
     "output_type": "stream",
     "text": [
      "Epoch 1 — Loss: -2.6924\n"
     ]
    },
    {
     "name": "stderr",
     "output_type": "stream",
     "text": [
      "864it [00:15, 55.86it/s] \n"
     ]
    },
    {
     "name": "stdout",
     "output_type": "stream",
     "text": [
      "Epoch 1 — Val Loss: -12.1319\n"
     ]
    },
    {
     "name": "stderr",
     "output_type": "stream",
     "text": [
      "3303it [00:10, 318.22it/s]\n"
     ]
    },
    {
     "name": "stdout",
     "output_type": "stream",
     "text": [
      "Epoch 2 — Loss: -17.0026\n"
     ]
    },
    {
     "name": "stderr",
     "output_type": "stream",
     "text": [
      "864it [00:00, 887.46it/s]\n"
     ]
    },
    {
     "name": "stdout",
     "output_type": "stream",
     "text": [
      "Epoch 2 — Val Loss: -21.4373\n"
     ]
    },
    {
     "name": "stderr",
     "output_type": "stream",
     "text": [
      "3303it [00:10, 318.16it/s]\n"
     ]
    },
    {
     "name": "stdout",
     "output_type": "stream",
     "text": [
      "Epoch 3 — Loss: -21.3706\n"
     ]
    },
    {
     "name": "stderr",
     "output_type": "stream",
     "text": [
      "864it [00:00, 873.95it/s]\n"
     ]
    },
    {
     "name": "stdout",
     "output_type": "stream",
     "text": [
      "Epoch 3 — Val Loss: -21.4880\n"
     ]
    },
    {
     "name": "stderr",
     "output_type": "stream",
     "text": [
      "3303it [00:10, 323.62it/s]\n"
     ]
    },
    {
     "name": "stdout",
     "output_type": "stream",
     "text": [
      "Epoch 4 — Loss: -21.6860\n"
     ]
    },
    {
     "name": "stderr",
     "output_type": "stream",
     "text": [
      "864it [00:01, 862.82it/s]\n"
     ]
    },
    {
     "name": "stdout",
     "output_type": "stream",
     "text": [
      "Epoch 4 — Val Loss: -21.6158\n"
     ]
    },
    {
     "name": "stderr",
     "output_type": "stream",
     "text": [
      "3303it [00:10, 328.18it/s]\n"
     ]
    },
    {
     "name": "stdout",
     "output_type": "stream",
     "text": [
      "Epoch 5 — Loss: -21.9617\n"
     ]
    },
    {
     "name": "stderr",
     "output_type": "stream",
     "text": [
      "864it [00:01, 841.81it/s]\n"
     ]
    },
    {
     "name": "stdout",
     "output_type": "stream",
     "text": [
      "Epoch 5 — Val Loss: -21.3982\n"
     ]
    },
    {
     "name": "stderr",
     "output_type": "stream",
     "text": [
      "3303it [00:10, 309.09it/s]\n"
     ]
    },
    {
     "name": "stdout",
     "output_type": "stream",
     "text": [
      "Epoch 6 — Loss: -22.2041\n"
     ]
    },
    {
     "name": "stderr",
     "output_type": "stream",
     "text": [
      "864it [00:01, 832.00it/s]\n"
     ]
    },
    {
     "name": "stdout",
     "output_type": "stream",
     "text": [
      "Epoch 6 — Val Loss: -21.4078\n"
     ]
    },
    {
     "name": "stderr",
     "output_type": "stream",
     "text": [
      "3303it [00:10, 307.28it/s]\n"
     ]
    },
    {
     "name": "stdout",
     "output_type": "stream",
     "text": [
      "Epoch 7 — Loss: -22.4264\n"
     ]
    },
    {
     "name": "stderr",
     "output_type": "stream",
     "text": [
      "864it [00:01, 826.64it/s]\n"
     ]
    },
    {
     "name": "stdout",
     "output_type": "stream",
     "text": [
      "Epoch 7 — Val Loss: -21.0797\n"
     ]
    },
    {
     "name": "stderr",
     "output_type": "stream",
     "text": [
      "3303it [00:11, 297.53it/s]\n"
     ]
    },
    {
     "name": "stdout",
     "output_type": "stream",
     "text": [
      "Epoch 8 — Loss: -22.6249\n"
     ]
    },
    {
     "name": "stderr",
     "output_type": "stream",
     "text": [
      "864it [00:01, 847.05it/s]\n"
     ]
    },
    {
     "name": "stdout",
     "output_type": "stream",
     "text": [
      "Epoch 8 — Val Loss: -21.2607\n"
     ]
    },
    {
     "name": "stderr",
     "output_type": "stream",
     "text": [
      "3303it [00:10, 305.31it/s]\n"
     ]
    },
    {
     "name": "stdout",
     "output_type": "stream",
     "text": [
      "Epoch 9 — Loss: -22.8103\n"
     ]
    },
    {
     "name": "stderr",
     "output_type": "stream",
     "text": [
      "864it [00:00, 900.01it/s]\n"
     ]
    },
    {
     "name": "stdout",
     "output_type": "stream",
     "text": [
      "Epoch 9 — Val Loss: -21.0540\n"
     ]
    },
    {
     "name": "stderr",
     "output_type": "stream",
     "text": [
      "3303it [00:11, 295.60it/s]\n"
     ]
    },
    {
     "name": "stdout",
     "output_type": "stream",
     "text": [
      "Epoch 10 — Loss: -23.0013\n"
     ]
    },
    {
     "name": "stderr",
     "output_type": "stream",
     "text": [
      "864it [00:00, 924.54it/s]"
     ]
    },
    {
     "name": "stdout",
     "output_type": "stream",
     "text": [
      "Epoch 10 — Val Loss: -20.9967\n"
     ]
    },
    {
     "name": "stderr",
     "output_type": "stream",
     "text": [
      "\n"
     ]
    }
   ],
   "source": [
    "from Agents.BCAgent import BCAgent\n",
    "\n",
    "device = torch.device(\"cuda\" if torch.cuda.is_available() else \"cpu\")\n",
    "print(f\"Using device: {device}\")\n",
    "obs_dim = train_dataset[0][0].shape[0]\n",
    "act_dim = train_dataset[0][1].shape[0]\n",
    "# opt     = optim.Adam(policy.parameters(), lr=1e-3)\n",
    "agent = BCAgent(obs_dim, act_dim, device)\n",
    "\n",
    "losses = []\n",
    "val_losses = []\n",
    "for epoch in range(10):\n",
    "    total_loss = 0.0\n",
    "    for i, (states, actions, next_states) in tqdm(enumerate(train_loader)):\n",
    "        states = states.to(device)       # [B, obs_dim]\n",
    "        actions = actions.to(device)     # [B] integers in [0…act_dim-1]\n",
    "        next_states = next_states.to(device)\n",
    "\n",
    "        loss = agent.train(states, actions, next_states)\n",
    "\n",
    "\n",
    "        total_loss += loss * states.shape[0]\n",
    "    avg_loss = total_loss / len(train_dataset)\n",
    "    losses.append(avg_loss)\n",
    "    print(f\"Epoch {epoch+1} — Loss: {avg_loss:.4f}\")\n",
    "\n",
    "    val_loss = 0.0  \n",
    "    for i, (states, actions, next_states) in tqdm(enumerate(val_loader)):\n",
    "        states = states.to(device)       # [B, obs_dim]\n",
    "        actions = actions.to(device)     # [B] integers in [0…act_dim-1]\n",
    "        next_states = next_states.to(device)\n",
    "\n",
    "        val_loss += agent.validate(states, actions)\n",
    "    avg_val_loss = val_loss / len(val_dataset)\n",
    "    val_losses.append(avg_val_loss)\n",
    "    print(f\"Epoch {epoch+1} — Val Loss: {avg_val_loss:.4f}\")\n"
   ]
  },
  {
   "cell_type": "code",
   "execution_count": 7,
   "metadata": {},
   "outputs": [
    {
     "data": {
      "image/png": "[encoded data removed]",
      "text/plain": [
       "<Figure size 640x480 with 1 Axes>"
      ]
     },
     "metadata": {},
     "output_type": "display_data"
    }
   ],
   "source": [
    "import matplotlib.pyplot as plt\n",
    "\n",
    "plt.figure()\n",
    "plt.title(\"BC Training\")\n",
    "plt.xlabel(\"Epoch\")\n",
    "plt.ylabel(\"Loss\")\n",
    "plt.plot(losses, label=\"train loss\")\n",
    "plt.plot(val_losses, label=\"val loss\")\n",
    "plt.legend()\n",
    "plt.show()\n",
    "\n"
   ]
  },
  {
   "cell_type": "code",
   "execution_count": 8,
   "metadata": {},
   "outputs": [
    {
     "name": "stdout",
     "output_type": "stream",
     "text": [
      "Model saved to trained_policy.pth\n"
     ]
    }
   ],
   "source": [
    "# Save the trained model\n",
    "torch.save(agent.policy_net.state_dict(), \"bc_40_train_same_logstd.pth\")\n",
    "print(\"Model saved to trained_policy.pth\")\n"
   ]
  }
 ],
 "metadata": {
  "kernelspec": {
   "display_name": "melee",
   "language": "python",
   "name": "python3"
  },
  "language_info": {
   "codemirror_mode": {
    "name": "ipython",
    "version": 3
   },
   "file_extension": ".py",
   "mimetype": "text/x-python",
   "name": "python",
   "nbconvert_exporter": "python",
   "pygments_lexer": "ipython3",
   "version": "3.10.17"
  }
 },
 "nbformat": 4,
 "nbformat_minor": 2
}
