{
 "cells": [
  {
   "cell_type": "code",
   "execution_count": 1,
   "metadata": {},
   "outputs": [],
   "source": [
    "from melee_dataset import MeleeDataset\n",
    "import torch.nn as nn\n",
    "import torch.optim as optim\n",
    "from torch.utils.data import DataLoader\n",
    "from tqdm import tqdm\n",
    "import torch\n",
    "from torch.distributions import Categorical\n",
    "from torch.distributions import Bernoulli,Normal\n",
    "import matplotlib.pyplot as plt\n",
    "from PolicyNet import PolicyNet\n",
    "import torch.nn.functional as F\n",
    "from Agents.BCAgent import BCAgent\n",
    "\n",
    "%load_ext autoreload\n",
    "%autoreload 2"
   ]
  },
  {
   "cell_type": "code",
   "execution_count": 2,
   "metadata": {},
   "outputs": [],
   "source": [
    "# train_dataset = MeleeDataset(data_path=\"data/train_mini_515\")\n",
    "# train_dataset = MeleeDataset(data_path=\"data/train_mini_40\")\n",
    "train_dataset = MeleeDataset(data_path=\"data/train_mini_5\")\n",
    "# train_dataset = MeleeDataset(data_path=\"data/train_mini_10_with_hitstun\")\n",
    "train_loader = DataLoader(train_dataset, batch_size=128, shuffle=True)\n",
    "\n",
    "val_dataset = MeleeDataset(data_path=\"data/val_mini_1\")\n",
    "# val_dataset = MeleeDataset(data_path=\"data/val_mini_10\")\n",
    "# val_dataset = MeleeDataset(data_path=\"data/val_mini_2_with_hitstun\")\n",
    "val_loader = DataLoader(val_dataset, batch_size=128, shuffle=True)\n"
   ]
  },
  {
   "cell_type": "code",
   "execution_count": 3,
   "metadata": {},
   "outputs": [
    {
     "name": "stdout",
     "output_type": "stream",
     "text": [
      "obs_dim: torch.Size([70])\n",
      "act_dim: torch.Size([17])\n"
     ]
    }
   ],
   "source": [
    "print(f\"obs_dim: {train_dataset[0][0].shape}\")\n",
    "print(f\"act_dim: {train_dataset[0][1].shape}\")"
   ]
  },
  {
   "cell_type": "code",
   "execution_count": 43,
   "metadata": {},
   "outputs": [
    {
     "name": "stdout",
     "output_type": "stream",
     "text": [
      "Using device: cuda\n"
     ]
    },
    {
     "name": "stderr",
     "output_type": "stream",
     "text": [
      "355it [00:02, 176.46it/s]\n"
     ]
    },
    {
     "name": "stdout",
     "output_type": "stream",
     "text": [
      "Epoch 1 — Loss: 955.1092\n"
     ]
    },
    {
     "name": "stderr",
     "output_type": "stream",
     "text": [
      "355it [00:01, 204.10it/s]\n"
     ]
    },
    {
     "name": "stdout",
     "output_type": "stream",
     "text": [
      "Epoch 2 — Loss: 1.1345\n"
     ]
    },
    {
     "name": "stderr",
     "output_type": "stream",
     "text": [
      "355it [00:01, 187.67it/s]\n"
     ]
    },
    {
     "name": "stdout",
     "output_type": "stream",
     "text": [
      "Epoch 3 — Loss: -68.0453\n"
     ]
    },
    {
     "name": "stderr",
     "output_type": "stream",
     "text": [
      "355it [00:02, 174.30it/s]\n"
     ]
    },
    {
     "name": "stdout",
     "output_type": "stream",
     "text": [
      "Epoch 4 — Loss: -106.0191\n"
     ]
    },
    {
     "name": "stderr",
     "output_type": "stream",
     "text": [
      "355it [00:01, 196.27it/s]"
     ]
    },
    {
     "name": "stdout",
     "output_type": "stream",
     "text": [
      "Epoch 5 — Loss: -127.6494\n"
     ]
    },
    {
     "name": "stderr",
     "output_type": "stream",
     "text": [
      "\n"
     ]
    }
   ],
   "source": [
    "\n",
    "from Agents.BCAgent import BCAgent\n",
    "from Agents.IQLAgent import IQLAgent\n",
    "device = torch.device(\"cuda\" if torch.cuda.is_available() else \"cpu\")\n",
    "print(f\"Using device: {device}\")\n",
    "obs_dim = train_dataset[0][0].shape[0]\n",
    "act_dim = train_dataset[0][1].shape[0]\n",
    "# agent = BCAgent(obs_dim, act_dim, device)\n",
    "agent = IQLAgent(obs_dim, act_dim, device, param_update_freq=100)\n",
    "\n",
    "# set the seed\n",
    "torch.manual_seed(42)\n",
    "if torch.cuda.is_available():\n",
    "    torch.cuda.manual_seed(42)\n",
    "\n",
    "losses = []\n",
    "val_losses = []\n",
    "batch_cnt = 0\n",
    "for epoch in range(5):\n",
    "    total_loss = 0.0\n",
    "    for i, (states, actions, next_states) in tqdm(enumerate(train_loader)):\n",
    "        states = states.to(device)       # [B, obs_dim]\n",
    "        actions = actions.to(device)     # [B] integers in [0…act_dim-1]\n",
    "        next_states = next_states.to(device)\n",
    "        # for i in range(1000):\n",
    "        loss = agent.train(states, actions, next_states)\n",
    "        vl, ql, pl = loss\n",
    "        # print(loss)\n",
    "        losses.append(loss)\n",
    "        # break\n",
    "        total_loss += pl * states.shape[0]\n",
    "        batch_cnt += 1\n",
    "\n",
    "        # if batch_cnt % 100 == 0:\n",
    "        #     val_loss = 0.0  \n",
    "        #     for i, (states, actions, next_states) in tqdm(enumerate(val_loader)):\n",
    "        #         states = states.to(device)       # [B, obs_dim]\n",
    "        #         actions = actions.to(device)     # [B] integers in [0…act_dim-1]\n",
    "        #         next_states = next_states.to(device)\n",
    "\n",
    "        #         val_loss += agent.validate(states, actions)\n",
    "        #     avg_val_loss = val_loss / len(val_dataset)\n",
    "        #     val_losses.append(avg_val_loss)\n",
    "        #     print(f\"Epoch {epoch+1} — Val Loss: {avg_val_loss:.4f}\")\n",
    "    # break\n",
    "\n",
    "    avg_loss = total_loss / len(train_dataset)\n",
    "    # losses.append(avg_loss)\n",
    "    print(f\"Epoch {epoch+1} — Loss: {avg_loss:.4f}\")\n",
    "\n",
    "\n"
   ]
  },
  {
   "cell_type": "code",
   "execution_count": 46,
   "metadata": {},
   "outputs": [
    {
     "data": {
      "image/png": "[encoded data removed]",
      "text/plain": [
       "<Figure size 640x480 with 1 Axes>"
      ]
     },
     "metadata": {},
     "output_type": "display_data"
    }
   ],
   "source": [
    "import matplotlib.pyplot as plt\n",
    "import numpy as np\n",
    "plt.figure()\n",
    "plt.title(\"BC Training\")\n",
    "plt.xlabel(\"Batch\")\n",
    "plt.ylabel(\"Loss\")\n",
    "# plt.xticks(np.arange(0, 6, 1))\n",
    "# plt.yscale(\"log\")\n",
    "plt.plot([losses[i][0] for i in range(len(losses))], label=\"vl\")\n",
    "# plt.plot([losses[i][1] for i in range(len(losses))], label=\"ql\")\n",
    "# plt.plot([losses[i][2] for i in range(len(losses))], label=\"pl\")\n",
    "# plt.plot(losses, label=\"train loss\")\n",
    "# plt.plot([100 * i for i in range(1, len(val_losses)+1)], val_losses, label=\"val loss\")\n",
    "plt.legend()\n",
    "plt.show()\n",
    "\n"
   ]
  },
  {
   "cell_type": "code",
   "execution_count": 47,
   "metadata": {},
   "outputs": [
    {
     "name": "stdout",
     "output_type": "stream",
     "text": [
      "Model saved to trained_policy.pth\n"
     ]
    }
   ],
   "source": [
    "# Save the trained model\n",
    "torch.save(agent.policy.state_dict(), \"iql_5.pth\")\n",
    "# torch.save(agent.policy_net.state_dict(), \"iql_5.pth\")\n",
    "print(\"Model saved to trained_policy.pth\")\n"
   ]
  }
 ],
 "metadata": {
  "kernelspec": {
   "display_name": "melee",
   "language": "python",
   "name": "python3"
  },
  "language_info": {
   "codemirror_mode": {
    "name": "ipython",
    "version": 3
   },
   "file_extension": ".py",
   "mimetype": "text/x-python",
   "name": "python",
   "nbconvert_exporter": "python",
   "pygments_lexer": "ipython3",
   "version": "3.10.17"
  }
 },
 "nbformat": 4,
 "nbformat_minor": 2
}
